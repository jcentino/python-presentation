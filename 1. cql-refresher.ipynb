{
 "metadata": {
  "name": "",
  "signature": "sha256:a15f9ce7521d1907f1407e9e96244e8a94eb851229b8a442531840d3c96ba654"
 },
 "nbformat": 3,
 "nbformat_minor": 0,
 "worksheets": [
  {
   "cells": [
    {
     "cell_type": "markdown",
     "metadata": {},
     "source": [
      "Cassandra Data Modeling Refresher\n",
      "=================================\n",
      "\n",
      "This presentation is open source.  All the code is executable.  To run locally, clone \n",
      "\n",
      "    git@github.com:rustyrazorblade/python-presentation.git\n",
      "\n",
      "and then \n",
      "    \n",
      "    pip install -r requirements.txt\n",
      "\n",
      "Full permission (and encouragement!) granted to use this material for your own presentations.\n",
      "\n",
      "By Jon Haddad"
     ]
    },
    {
     "cell_type": "markdown",
     "metadata": {},
     "source": [
      "Overview\n",
      "==========\n",
      "This is a quick refresher into Cassandra data modeling.  We're going to go over keyspace and table creation first, then dig into how CQL translates to table layout.\n",
      "\n",
      "We're going to use the ipython-cql extension extension which lets us run CQL queries directly from IPython notebook.  It's available on pypi as `ipython-cql`.  Any query can be executed.  A one line query can be executed as: \n",
      "\n",
      "    %cql select * from table\n",
      "\n",
      "And multiline queries require a double %% like so:\n",
      "\n",
      "    %%cql select * \n",
      "           from table\n",
      "           \n",
      "These queries can be executed in `cqlsh`, just remove the %cql part.\n",
      "\n",
      "A running Cassandra version > 2.0 required.\n",
      "\n",
      "To execute a cell in this notebook, simple shift-enter.  Cells can be edited and reexecuted as well."
     ]
    },
    {
     "cell_type": "code",
     "collapsed": false,
     "input": [
      "%load_ext cql"
     ],
     "language": "python",
     "metadata": {},
     "outputs": []
    },
    {
     "cell_type": "markdown",
     "metadata": {},
     "source": [
      "Keyspaces\n",
      "====================\n",
      "\n",
      "A keyspaces is a container for tables in Cassandra.  "
     ]
    },
    {
     "cell_type": "code",
     "collapsed": false,
     "input": [
      "%cql DROP KEYSPACE if exists tutorial;\n",
      "%cql CREATE KEYSPACE tutorial WITH replication = {'class': 'SimpleStrategy', 'replication_factor': '1'};"
     ],
     "language": "python",
     "metadata": {},
     "outputs": []
    },
    {
     "cell_type": "code",
     "collapsed": false,
     "input": [
      "%keyspace tutorial"
     ],
     "language": "python",
     "metadata": {},
     "outputs": []
    },
    {
     "cell_type": "markdown",
     "metadata": {},
     "source": [
      "Tables\n",
      "==============\n",
      "\n",
      "Tables are where our data lives.  It is similar in concept to a table in a RDBMS, but behaves differently.  We can view all the tables in a keyspace by using `desc tables` on cqlsh, or by using `%tables` in ipython.  If there aren't any tables yet, this will be pretty boring:"
     ]
    },
    {
     "cell_type": "code",
     "collapsed": false,
     "input": [
      "%tables"
     ],
     "language": "python",
     "metadata": {},
     "outputs": []
    },
    {
     "cell_type": "markdown",
     "metadata": {},
     "source": [
      "Here's a few tables that define users and photos:"
     ]
    },
    {
     "cell_type": "code",
     "collapsed": false,
     "input": [
      "%%cql\n",
      "\n",
      "CREATE TABLE IF NOT EXISTS user (\n",
      "  user_id uuid,\n",
      "  name text,\n",
      "  PRIMARY KEY (user_id)\n",
      ")"
     ],
     "language": "python",
     "metadata": {},
     "outputs": []
    },
    {
     "cell_type": "code",
     "collapsed": false,
     "input": [
      "%%cql \n",
      "\n",
      "CREATE TABLE IF NOT EXISTS photo (\n",
      "  photo_id uuid,\n",
      "  name text,\n",
      "  PRIMARY KEY (photo_id)\n",
      ");"
     ],
     "language": "python",
     "metadata": {},
     "outputs": []
    },
    {
     "cell_type": "code",
     "collapsed": false,
     "input": [
      "%tables"
     ],
     "language": "python",
     "metadata": {},
     "outputs": []
    },
    {
     "cell_type": "code",
     "collapsed": false,
     "input": [
      "%desc photo"
     ],
     "language": "python",
     "metadata": {},
     "outputs": []
    },
    {
     "cell_type": "code",
     "collapsed": false,
     "input": [
      "%cql INSERT INTO user (user_id, name) VALUES (1d5dfcbe-57a6-4b23-906c-3e48db617f49, 'Jon')\n",
      "%cql INSERT INTO user (user_id, name) VALUES (909c59a7-57ac-424d-97b8-a096800ab037, 'Steve')\n",
      "\n",
      "\n",
      "print \"Users:\"\n",
      "%cql SELECT * from user;"
     ],
     "language": "python",
     "metadata": {},
     "outputs": []
    },
    {
     "cell_type": "code",
     "collapsed": false,
     "input": [
      "%cql INSERT INTO photo (photo_id, name) VALUES (7dbf7758-e46c-4175-8f03-bf05d2c220d9, 'Handsome Cat')\n",
      "print \"Photos:\"\n",
      "%cql SELECT * from photo;"
     ],
     "language": "python",
     "metadata": {},
     "outputs": []
    },
    {
     "cell_type": "markdown",
     "metadata": {},
     "source": [
      "Partitions\n",
      "============\n",
      "\n",
      "Within a table, data lives in a partition.  A partition is a physical grouping of related data.  "
     ]
    },
    {
     "cell_type": "markdown",
     "metadata": {},
     "source": [
      "Rows\n",
      "=====\n",
      "\n",
      "Within a partition there can be many rows.  The rows within a partition are sorted by the clustering key.  For example, lets create a `likes` table.  We want to keep track of which users have liked which photo, and we want to be able to query that effeciently.  We know our query is always going to ask for \"who liked this photo?\".  So we want all the likes for a particular photo to be stored together.\n"
     ]
    },
    {
     "cell_type": "code",
     "collapsed": false,
     "input": [
      "%%cql\n",
      "\n",
      "CREATE TABLE IF NOT EXISTS like (\n",
      "  photo_id uuid,\n",
      "  user_id uuid,\n",
      "  primary key (photo_id, user_id)\n",
      ");"
     ],
     "language": "python",
     "metadata": {},
     "outputs": []
    },
    {
     "cell_type": "code",
     "collapsed": false,
     "input": [
      "%tables"
     ],
     "language": "python",
     "metadata": {},
     "outputs": []
    },
    {
     "cell_type": "markdown",
     "metadata": {},
     "source": [
      "A primary key is written as (partition_key, clustering_key...)\n",
      "\n",
      "When SSTAbles are written to disk, likes will be partitioned by `photo_id`, and sorted by user_id (the clustering key)\n",
      "\n",
      "This makes queries predictable even for tens of thousands of rows by minimizing disk seeks."
     ]
    },
    {
     "cell_type": "markdown",
     "metadata": {},
     "source": [
      "Collections\n",
      "============"
     ]
    },
    {
     "cell_type": "code",
     "collapsed": false,
     "input": [
      "%%cql\n",
      "\n",
      "CREATE TABLE users (\n",
      "    id text PRIMARY KEY,\n",
      "    given text,\n",
      "    surname text,\n",
      "    favs map<text, text>   // A map of text keys, and text values\n",
      ")"
     ],
     "language": "python",
     "metadata": {},
     "outputs": []
    },
    {
     "cell_type": "code",
     "collapsed": false,
     "input": [
      "%%cql \n",
      "\n",
      "INSERT INTO users (id, given, surname, favs)\n",
      "           VALUES ('jsmith', 'John', 'Smith', { 'fruit' : 'apple', 'band' : 'Beatles' })\n"
     ],
     "language": "python",
     "metadata": {},
     "outputs": []
    },
    {
     "cell_type": "code",
     "collapsed": false,
     "input": [
      "%cql select * from users;"
     ],
     "language": "python",
     "metadata": {},
     "outputs": []
    },
    {
     "cell_type": "markdown",
     "metadata": {},
     "source": [
      "Sets\n",
      "-----"
     ]
    },
    {
     "cell_type": "code",
     "collapsed": false,
     "input": [
      "%%cql\n",
      "CREATE TABLE images (\n",
      "    name text PRIMARY KEY,\n",
      "    owner text,\n",
      "    date timestamp,\n",
      "    tags set<text>\n",
      ");"
     ],
     "language": "python",
     "metadata": {},
     "outputs": []
    },
    {
     "cell_type": "code",
     "collapsed": false,
     "input": [
      "%%cql \n",
      "INSERT INTO images (name, owner, date, tags)\n",
      "            VALUES ('cat.jpg', 'jsmith', 'now', { 'kitten', 'cat', 'pet' });"
     ],
     "language": "python",
     "metadata": {},
     "outputs": []
    },
    {
     "cell_type": "code",
     "collapsed": false,
     "input": [
      "%cql select * from images;"
     ],
     "language": "python",
     "metadata": {},
     "outputs": []
    },
    {
     "cell_type": "code",
     "collapsed": false,
     "input": [
      "%%cql \n",
      "UPDATE images SET tags = tags + { 'cute', 'cuddly' } WHERE name = 'cat.jpg';"
     ],
     "language": "python",
     "metadata": {},
     "outputs": []
    },
    {
     "cell_type": "code",
     "collapsed": false,
     "input": [
      "%cql select * from images"
     ],
     "language": "python",
     "metadata": {},
     "outputs": []
    },
    {
     "cell_type": "markdown",
     "metadata": {},
     "source": [
      "Batches\n",
      "========"
     ]
    },
    {
     "cell_type": "code",
     "collapsed": false,
     "input": [
      "%%cql\n",
      "BEGIN BATCH\n",
      "INSERT INTO users (id, given, surname) VALUES ('jhaddad', 'Jon', 'Haddad');\n",
      "INSERT INTO users (id, given, surname) VALUES ('ltran', 'Lina', 'Tran');\n",
      "APPLY BATCH"
     ],
     "language": "python",
     "metadata": {},
     "outputs": []
    },
    {
     "cell_type": "code",
     "collapsed": false,
     "input": [
      "%cql  SELECT * from users;"
     ],
     "language": "python",
     "metadata": {},
     "outputs": []
    },
    {
     "cell_type": "markdown",
     "metadata": {},
     "source": [
      "TTL\n",
      "======"
     ]
    },
    {
     "cell_type": "code",
     "collapsed": false,
     "input": [
      "%cql INSERT INTO users (id, given, surname) VALUES ('ltillman', 'Luke', 'Tillman') USING TTL 1;\n",
      "%cql SELECT * from users WHERE id = 'ltillman';"
     ],
     "language": "python",
     "metadata": {},
     "outputs": []
    },
    {
     "cell_type": "code",
     "collapsed": false,
     "input": [
      "%cql SELECT * from users WHERE id = 'ltillman';"
     ],
     "language": "python",
     "metadata": {},
     "outputs": []
    },
    {
     "cell_type": "markdown",
     "metadata": {},
     "source": [
      "Lightweight Transactions\n",
      "========================="
     ]
    },
    {
     "cell_type": "markdown",
     "metadata": {},
     "source": [
      "Inserts do not do a check if the row already exists.  This can lead to race conditions in your code.  If you have a situation where this absolutely cannot happen, you can use a lightweight transaction.  For example:"
     ]
    },
    {
     "cell_type": "code",
     "collapsed": false,
     "input": [
      "%cql INSERT INTO users (id, given, surname) values ('psmith', 'Pete', 'Smith');\n",
      "%cql INSERT INTO users (id, given, surname) values ('psmith', 'Paul', 'Smith');\n",
      "%cql select * from users where id = 'psmith'; # overwrote the original!"
     ],
     "language": "python",
     "metadata": {},
     "outputs": []
    },
    {
     "cell_type": "markdown",
     "metadata": {},
     "source": [
      "Let's look at the original user account:"
     ]
    },
    {
     "cell_type": "code",
     "collapsed": false,
     "input": [
      "%cql SELECT * from users where id = 'jhaddad';"
     ],
     "language": "python",
     "metadata": {},
     "outputs": []
    },
    {
     "cell_type": "markdown",
     "metadata": {},
     "source": [
      "Now, lets try to overwrite it with an INSERT using a lightweight transaction:"
     ]
    },
    {
     "cell_type": "code",
     "collapsed": false,
     "input": [
      "%cql INSERT INTO users (id, given, surname) values ('jhaddad', 'Joseph', 'Haddad') IF NOT EXISTS"
     ],
     "language": "python",
     "metadata": {},
     "outputs": []
    },
    {
     "cell_type": "markdown",
     "metadata": {},
     "source": [
      "We can see the original record comes back if the transaction fails.  We can verify the db has not been changed:"
     ]
    },
    {
     "cell_type": "code",
     "collapsed": false,
     "input": [
      "%cql SELECT * from users where id = 'jhaddad';"
     ],
     "language": "python",
     "metadata": {},
     "outputs": []
    }
   ],
   "metadata": {}
  }
 ]
}