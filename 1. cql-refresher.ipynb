{
 "metadata": {
  "name": "",
  "signature": "sha256:2f69fd7a5ebd7c7309c8db11b2feafac65d9b944814e2e0645c2e242b351d6f8"
 },
 "nbformat": 3,
 "nbformat_minor": 0,
 "worksheets": [
  {
   "cells": [
    {
     "cell_type": "markdown",
     "metadata": {},
     "source": [
      "Cassandra Data Modeling Refresher\n",
      "=================================\n",
      "\n",
      "By Jon Haddad"
     ]
    },
    {
     "cell_type": "markdown",
     "metadata": {},
     "source": [
      "Overview\n",
      "==========\n",
      "This is a quick refresher into Cassandra data modeling.  We're going to go over keyspace and table creation first, then dig into how CQL translates to table layout.\n",
      "\n",
      "We're going to use the ipython-cql extension extension which lets us run CQL queries directly from IPython notebook.  It's available on pypi as `ipython-cql`."
     ]
    },
    {
     "cell_type": "code",
     "collapsed": false,
     "input": [
      "%load_ext cql"
     ],
     "language": "python",
     "metadata": {},
     "outputs": [
      {
       "output_type": "stream",
       "stream": "stdout",
       "text": [
        "The cql extension is already loaded. To reload it, use:\n",
        "  %reload_ext cql\n"
       ]
      }
     ],
     "prompt_number": 36
    },
    {
     "cell_type": "markdown",
     "metadata": {},
     "source": [
      "Keyspaces\n",
      "====================\n",
      "\n",
      "A keyspaces is a container for tables in Cassandra.  "
     ]
    },
    {
     "cell_type": "code",
     "collapsed": false,
     "input": [
      "%cql CREATE KEYSPACE IF NOT EXISTS tutorial WITH replication = {'class': 'SimpleStrategy', 'replication_factor': '1'};"
     ],
     "language": "python",
     "metadata": {},
     "outputs": [],
     "prompt_number": 3
    },
    {
     "cell_type": "code",
     "collapsed": false,
     "input": [
      "%keyspace tutorial"
     ],
     "language": "python",
     "metadata": {},
     "outputs": [
      {
       "output_type": "stream",
       "stream": "stdout",
       "text": [
        "Using keyspace tutorial\n"
       ]
      }
     ],
     "prompt_number": 26
    },
    {
     "cell_type": "markdown",
     "metadata": {},
     "source": [
      "Tables\n",
      "==============\n",
      "\n",
      "Tables are where our data lives.  It is similar in concept to a table in a RDBMS, but behaves differently.  Here's a few tables that define users and "
     ]
    },
    {
     "cell_type": "code",
     "collapsed": false,
     "input": [
      "%tables"
     ],
     "language": "python",
     "metadata": {},
     "outputs": [
      {
       "metadata": {},
       "output_type": "pyout",
       "prompt_number": 40,
       "text": [
        "[u'photo', u'user', u'like']"
       ]
      }
     ],
     "prompt_number": 40
    },
    {
     "cell_type": "code",
     "collapsed": false,
     "input": [
      "%%cql\n",
      "\n",
      "CREATE TABLE IF NOT EXISTS user (\n",
      "  user_id uuid,\n",
      "  name text,\n",
      "  PRIMARY KEY (user_id)\n",
      ");"
     ],
     "language": "python",
     "metadata": {},
     "outputs": [],
     "prompt_number": 28
    },
    {
     "cell_type": "code",
     "collapsed": false,
     "input": [
      "%%cql \n",
      "\n",
      "CREATE TABLE IF NOT EXISTS photo (\n",
      "  photo_id uuid,\n",
      "  name text,\n",
      "  PRIMARY KEY (photo_id)\n",
      ");\n"
     ],
     "language": "python",
     "metadata": {},
     "outputs": [],
     "prompt_number": 29
    },
    {
     "cell_type": "code",
     "collapsed": false,
     "input": [
      "%tables"
     ],
     "language": "python",
     "metadata": {},
     "outputs": [
      {
       "metadata": {},
       "output_type": "pyout",
       "prompt_number": 39,
       "text": [
        "[u'photo', u'user', u'like']"
       ]
      }
     ],
     "prompt_number": 39
    },
    {
     "cell_type": "code",
     "collapsed": false,
     "input": [
      "%cql INSERT INTO user (user_id, name) VALUES (1d5dfcbe-57a6-4b23-906c-3e48db617f49, 'Jon')\n",
      "%cql INSERT INTO user (user_id, name) VALUES (909c59a7-57ac-424d-97b8-a096800ab037, 'Steve')\n",
      "\n",
      "\n",
      "print \"Users:\"\n",
      "%cql SELECT * from user;"
     ],
     "language": "python",
     "metadata": {},
     "outputs": [
      {
       "output_type": "stream",
       "stream": "stdout",
       "text": [
        "Users:\n"
       ]
      },
      {
       "metadata": {},
       "output_type": "pyout",
       "prompt_number": 45,
       "text": [
        "[Row(user_id=UUID('1d5dfcbe-57a6-4b23-906c-3e48db617f49'), name=u'Jon'),\n",
        " Row(user_id=UUID('909c59a7-57ac-424d-97b8-a096800ab037'), name=u'Steve')]"
       ]
      }
     ],
     "prompt_number": 45
    },
    {
     "cell_type": "code",
     "collapsed": false,
     "input": [
      "%cql INSERT INTO photo (photo_id, name) VALUES (7dbf7758-e46c-4175-8f03-bf05d2c220d9, 'Handsome Cat')\n",
      "print \"Photos:\"\n",
      "%cql SELECT * from photo;"
     ],
     "language": "python",
     "metadata": {},
     "outputs": [
      {
       "output_type": "stream",
       "stream": "stdout",
       "text": [
        "Photos:\n"
       ]
      },
      {
       "metadata": {},
       "output_type": "pyout",
       "prompt_number": 46,
       "text": [
        "[Row(photo_id=UUID('7dbf7758-e46c-4175-8f03-bf05d2c220d9'), name=u'Handsome Cat')]"
       ]
      }
     ],
     "prompt_number": 46
    },
    {
     "cell_type": "markdown",
     "metadata": {},
     "source": [
      "Partitions\n",
      "============\n",
      "\n",
      "Within a table, data lives in a partition."
     ]
    },
    {
     "cell_type": "markdown",
     "metadata": {},
     "source": [
      "Rows\n",
      "=====\n",
      "\n",
      "Within a partition there can be many rows.  A partition is sorted by the clustering key.\n"
     ]
    },
    {
     "cell_type": "code",
     "collapsed": false,
     "input": [
      "%%cql\n",
      "\n",
      "CREATE TABLE IF NOT EXISTS like (\n",
      "  photo_id uuid,\n",
      "  user_id uuid,\n",
      "  primary key (photo_id, user_id)\n",
      ");"
     ],
     "language": "python",
     "metadata": {},
     "outputs": [],
     "prompt_number": 34
    },
    {
     "cell_type": "code",
     "collapsed": false,
     "input": [
      "%tables"
     ],
     "language": "python",
     "metadata": {},
     "outputs": [
      {
       "metadata": {},
       "output_type": "pyout",
       "prompt_number": 35,
       "text": [
        "[u'photo', u'user', u'like']"
       ]
      }
     ],
     "prompt_number": 35
    },
    {
     "cell_type": "code",
     "collapsed": false,
     "input": [],
     "language": "python",
     "metadata": {},
     "outputs": []
    }
   ],
   "metadata": {}
  }
 ]
}