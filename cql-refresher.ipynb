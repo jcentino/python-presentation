{
 "metadata": {
  "name": "",
  "signature": "sha256:30ce6d9d505cf82a29e4034fe357247d5bedf055362470d769fce055068ecc77"
 },
 "nbformat": 3,
 "nbformat_minor": 0,
 "worksheets": [
  {
   "cells": [
    {
     "cell_type": "markdown",
     "metadata": {},
     "source": [
      "Create a Keyspace\n",
      "====================\n",
      "\n",
      "    CREATE KEYSPACE tutorial WITH replication = {\n",
      "      'class': 'SimpleStrategy',\n",
      "      'replication_factor': '1'\n",
      "    };\n",
      "\n"
     ]
    },
    {
     "cell_type": "code",
     "collapsed": false,
     "input": [],
     "language": "python",
     "metadata": {},
     "outputs": []
    }
   ],
   "metadata": {}
  }
 ]
}