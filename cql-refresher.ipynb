{
 "metadata": {
  "name": "",
  "signature": "sha256:a231a8cdd3edf8497bd4caeada70605e47181e4e81f80676e1863a07f1cabe3f"
 },
 "nbformat": 3,
 "nbformat_minor": 0,
 "worksheets": [
  {
   "cells": [
    {
     "cell_type": "markdown",
     "metadata": {},
     "source": [
      "Cassandra Data Modeling Refresher\n",
      "=================================\n",
      "\n",
      "By Jon Haddad"
     ]
    },
    {
     "cell_type": "markdown",
     "metadata": {},
     "source": [
      "Overview\n",
      "==========\n",
      "This is a quick refresher into Cassandra data modeling.  We're going to go over keyspace and table creation first, then dig into how CQL translates to table layout.\n",
      "\n",
      "We're going to use the ipython-cql extension extension which lets us run CQL queries directly from IPython notebook.  It's available on pypi as `ipython-cql`."
     ]
    },
    {
     "cell_type": "code",
     "collapsed": false,
     "input": [
      "%load_ext cql"
     ],
     "language": "python",
     "metadata": {},
     "outputs": []
    },
    {
     "cell_type": "markdown",
     "metadata": {},
     "source": [
      "Keyspaces\n",
      "====================\n",
      "\n",
      "A keyspaces is a container for tables in Cassandra.  "
     ]
    },
    {
     "cell_type": "code",
     "collapsed": false,
     "input": [
      "%cql CREATE KEYSPACE IF NOT EXISTS tutorial WITH replication = {'class': 'SimpleStrategy', 'replication_factor': '1'};"
     ],
     "language": "python",
     "metadata": {},
     "outputs": []
    },
    {
     "cell_type": "code",
     "collapsed": false,
     "input": [
      "%keyspace tutorial"
     ],
     "language": "python",
     "metadata": {},
     "outputs": []
    },
    {
     "cell_type": "markdown",
     "metadata": {},
     "source": [
      "Tables\n",
      "==============\n",
      "\n",
      "Tables are where our data lives.  It is similar in concept to a table in a RDBMS, but behaves differently.  Here's a few tables that define users and "
     ]
    },
    {
     "cell_type": "code",
     "collapsed": false,
     "input": [
      "%%tables"
     ],
     "language": "python",
     "metadata": {},
     "outputs": []
    },
    {
     "cell_type": "code",
     "collapsed": false,
     "input": [
      "%%cql\n",
      "\n",
      "CREATE TABLE IF NOT EXISTS user (\n",
      "  user_id uuid,\n",
      "  name text,\n",
      "  PRIMARY KEY (user_id)\n",
      ");"
     ],
     "language": "python",
     "metadata": {},
     "outputs": []
    },
    {
     "cell_type": "code",
     "collapsed": false,
     "input": [
      "%%cql \n",
      "\n",
      "CREATE TABLE IF NOT EXISTS photo (\n",
      "  photo_id uuid,\n",
      "  name text,\n",
      "  PRIMARY KEY (photo_id)\n",
      ");\n"
     ],
     "language": "python",
     "metadata": {},
     "outputs": []
    },
    {
     "cell_type": "code",
     "collapsed": false,
     "input": [
      "%cql INSERT INTO user (user_id, name) VALUES (1d5dfcbe-57a6-4b23-906c-3e48db617f49, 'Jon')\n",
      "%cql INSERT INTO user (user_id, name) VALUES (909c59a7-57ac-424d-97b8-a096800ab037, 'Steve')\n",
      "%cql INSERT INTO photo (photo_id, name) VALUES (7dbf7758-e46c-4175-8f03-bf05d2c220d9, 'Handsome Cat')\n",
      "\n",
      "print \"Users:\"\n",
      "%cql SELECT * from user;\n",
      "\n",
      "print \"Photos:\"\n",
      "%cql SELECT * from photo;"
     ],
     "language": "python",
     "metadata": {},
     "outputs": []
    },
    {
     "cell_type": "code",
     "collapsed": false,
     "input": [
      "%%cql\n",
      "\n",
      "CREATE TABLE IF NOT EXISTS like (\n",
      "  photo_id uuid,\n",
      "  user_id uuid,\n",
      "  primary key (photo_id, user_id)\n",
      ");"
     ],
     "language": "python",
     "metadata": {},
     "outputs": []
    },
    {
     "cell_type": "markdown",
     "metadata": {},
     "source": [
      "Partitions\n",
      "============\n",
      "\n",
      "Within a table, data lives in a partition."
     ]
    },
    {
     "cell_type": "markdown",
     "metadata": {},
     "source": [
      "Rows\n",
      "=====\n",
      "\n",
      "Within a partition can exist many \n"
     ]
    }
   ],
   "metadata": {}
  }
 ]
}