{
 "metadata": {
  "name": "",
  "signature": "sha256:3d933048599d313424c17bf09a1a1600ff1dbf203da79c2f55303540f51c22ea"
 },
 "nbformat": 3,
 "nbformat_minor": 0,
 "worksheets": [
  {
   "cells": [
    {
     "cell_type": "markdown",
     "metadata": {},
     "source": [
      "Native Driver Introduction\n",
      "=============================\n",
      "\n",
      "Welcome to the Python native driver tutorial.  This tutorial will be constantly evolving as feedback is incorperated.  Pull requests are encouraged!  This is fully open source, feel free to fork and deliver it at other meetups!\n",
      "\n",
      "Check out the [documenation](http://datastax.github.io/python-driver/) and the [github repo](https://github.com/datastax/python-driver)."
     ]
    },
    {
     "cell_type": "markdown",
     "metadata": {},
     "source": [
      "We're going to assume a keyspace named tutorial exists\n",
      "\n",
      "In a CQL shell, we can do this:\n",
      "\n",
      "> CREATE KEYSPACE if not exists tutorial WITH replication = {'class': 'SimpleStrategy', 'replication_factor': 1};\n",
      "\n",
      "we'll create the rest of the tables programatically"
     ]
    },
    {
     "cell_type": "code",
     "collapsed": false,
     "input": [
      "%load_ext cql"
     ],
     "language": "python",
     "metadata": {},
     "outputs": [
      {
       "output_type": "stream",
       "stream": "stdout",
       "text": [
        "The cql extension is already loaded. To reload it, use:\n",
        "  %reload_ext cql\n"
       ]
      }
     ],
     "prompt_number": 45
    },
    {
     "cell_type": "code",
     "collapsed": false,
     "input": [
      "%cql DROP KEYSPACE IF EXISTS tutorial;\n",
      "%cql CREATE KEYSPACE IF NOT EXISTS tutorial WITH replication = {'class': 'SimpleStrategy', 'replication_factor': 1}; "
     ],
     "language": "python",
     "metadata": {},
     "outputs": [
      {
       "metadata": {},
       "output_type": "pyout",
       "prompt_number": 46,
       "text": [
        "'No results.'"
       ]
      }
     ],
     "prompt_number": 46
    },
    {
     "cell_type": "code",
     "collapsed": false,
     "input": [
      "# here we set up our database connection\n",
      "from cassandra.cluster import Cluster\n",
      "cluster = Cluster()\n",
      "\n",
      "# a session manages the connection pool for us\n",
      "session = cluster.connect(\"tutorial\")\n",
      "print \"Connected\""
     ],
     "language": "python",
     "metadata": {},
     "outputs": [
      {
       "output_type": "stream",
       "stream": "stdout",
       "text": [
        "Connected\n"
       ]
      }
     ],
     "prompt_number": 47
    },
    {
     "cell_type": "markdown",
     "metadata": {},
     "source": [
      "Table Setup\n",
      "-------------------"
     ]
    },
    {
     "cell_type": "code",
     "collapsed": false,
     "input": [
      "# basic table setup\n",
      "tables = [\"photo\", \"comment\"]\n",
      "\n",
      "# drop the existing ones.  can't use a placeholder for DROP TABLE so we just use python string interpolation\n",
      "for table in tables:\n",
      "    session.execute(\"DROP TABLE if exists %s\" % table)\n",
      "    \n",
      "photo = \"\"\"\n",
      "CREATE TABLE photo (\n",
      "  photo_id uuid,\n",
      "  name text,\n",
      "  PRIMARY KEY (photo_id)\n",
      ")\n",
      "\"\"\"\n",
      "\n",
      "comment = \"\"\"\n",
      "CREATE TABLE comment (\n",
      "  photo_id uuid,\n",
      "  comment_id timeuuid,\n",
      "  comment text,\n",
      "  PRIMARY KEY (photo_id, comment_id)\n",
      ") WITH CLUSTERING ORDER BY (comment_id DESC)\n",
      "\"\"\"\n",
      "\n",
      "session.execute(photo)\n",
      "session.execute(comment)"
     ],
     "language": "python",
     "metadata": {},
     "outputs": [],
     "prompt_number": 48
    },
    {
     "cell_type": "markdown",
     "metadata": {},
     "source": [
      "Prepared Statements\n",
      "========================\n",
      "We're going to populate photos using prepared statements.\n",
      "\n",
      "Prepared statements are more secure and decrease server load."
     ]
    },
    {
     "cell_type": "code",
     "collapsed": false,
     "input": [
      "import uuid\n",
      "insert = session.prepare(\"INSERT INTO photo (photo_id, name) VALUES (?, ?)\")\n",
      "\n",
      "for x in range(100):\n",
      "    session.execute(insert, (uuid.uuid4(), \"test %d\" % x))\n",
      "\n",
      "for photo in session.execute(\"SELECT * from photo limit 5\"):\n",
      "    print photo"
     ],
     "language": "python",
     "metadata": {},
     "outputs": [
      {
       "output_type": "stream",
       "stream": "stdout",
       "text": [
        "Row(photo_id=UUID('83e96acb-2a30-4fe8-b194-be0bf0d97707'), name=u'test 50')\n",
        "Row(photo_id=UUID('4ed9c1fa-8bba-4f43-890d-cf5dfc814b75'), name=u'test 31')\n",
        "Row(photo_id=UUID('6a55f6af-b905-436b-8ba5-a444aaef2842'), name=u'test 84')\n",
        "Row(photo_id=UUID('af8efa96-d359-4633-ae4d-8e9f710679a0'), name=u'test 40')\n",
        "Row(photo_id=UUID('1b0e2bc7-c3ec-43e1-aa77-f46bb33cd89f'), name=u'test 95')\n"
       ]
      }
     ],
     "prompt_number": 49
    },
    {
     "cell_type": "code",
     "collapsed": false,
     "input": [
      "# lets get a nice visual of some sensor data!\n",
      "\n",
      "session.execute(\"DROP TABLE IF EXISTS sensor_data\")\n",
      "sensor_table = \"\"\"\n",
      "CREATE TABLE sensor_data (\n",
      "  sensor_id uuid,\n",
      "  created_at timeuuid,\n",
      "  reading int,\n",
      "  PRIMARY KEY (sensor_id, created_at)\n",
      ") WITH CLUSTERING ORDER BY (created_at DESC)\n",
      "\"\"\"\n",
      "\n",
      "session.execute(sensor_table)\n",
      "\n",
      "from uuid import uuid1, uuid4\n",
      "from random import randint\n",
      "\n",
      "insert = session.prepare(\"INSERT INTO sensor_data (sensor_id, created_at, reading) VALUES (?, ?, ?)\")\n",
      "\n",
      "sid = uuid4()\n",
      "for x in range(100):\n",
      "    session.execute(insert, (sid, uuid.uuid1(), randint(1, 1000)))\n",
      "\n",
      "\n"
     ],
     "language": "python",
     "metadata": {},
     "outputs": [],
     "prompt_number": 50
    },
    {
     "cell_type": "markdown",
     "metadata": {},
     "source": [
      "Performance\n",
      "============"
     ]
    },
    {
     "cell_type": "markdown",
     "metadata": {},
     "source": [
      "The Python driver works best when taking advantage of it's asynchronous features.  \n",
      "\n",
      "First, we'll insert our sensor data.  Here's we'll use a callback to insert some data after we've created the initial sensor entry."
     ]
    },
    {
     "cell_type": "code",
     "collapsed": false,
     "input": [
      "from datetime import datetime\n",
      "from random import randint\n",
      "\n",
      "session.execute(\"TRUNCATE sensor_data\")\n",
      "session.execute(\"DROP TABLE IF EXISTS sensor\")\n",
      "sensor_table = \"\"\"\n",
      "CREATE TABLE sensor (\n",
      "  sensor_id uuid,\n",
      "  name text,\n",
      "  created_at timestamp,\n",
      "  PRIMARY KEY (sensor_id)\n",
      ")\n",
      "\"\"\"\n",
      "\n",
      "session.execute(sensor_table)\n",
      "\n",
      "\"\"\"\n",
      "from earlier defined table:\n",
      "\n",
      "    sensor_data:\n",
      "      sensor_id uuid,\n",
      "      created_at timeuuid,\n",
      "      reading int,\n",
      "\"\"\"\n",
      "\n",
      "insert_sensor = session.prepare(\"INSERT INTO sensor (sensor_id, name, created_at) VALUES (?, ?, ?)\")\n",
      "insert_sensor_data = session.prepare(\"INSERT INTO sensor_data (sensor_id, created_at, reading) VALUES (?, ?, ?)\")\n",
      "\n",
      "# CALLBACK: for each sensor we're going to create 100 sensor entires\n",
      "def create_sensor_entries_callback(response, sensor_id):\n",
      "    print \"CALLBACK\"\n",
      "    for x in range(10):\n",
      "        session.execute_async(insert_sensor_data, (sensor_id, uuid1(), randint(1, 1000)))\n",
      "\n",
      "futures = []\n",
      "sensor_ids = []\n",
      "\n",
      "for x in range(10):\n",
      "    sensor_id = uuid4()\n",
      "    print sensor_id\n",
      "    future = session.execute_async(insert_sensor, (sensor_id, \"sensor %d\" % x, datetime.now()))\n",
      "    future.add_callback(create_sensor_entries_callback, sensor_id)\n",
      "    futures.append(future)\n",
      "    sensor_ids.append([sensor_id]) # we'll save this for later as a list of tuples"
     ],
     "language": "python",
     "metadata": {},
     "outputs": [
      {
       "output_type": "stream",
       "stream": "stdout",
       "text": [
        "93f92e9c-dcae-4a5d-a672-2147ded7259e\n",
        "095121af-297a-4252-91fa-a6294b63b3f1\n",
        "5a5d061e-24b8-413e-9277-ede4ca01ab79\n",
        "b272009d-8fa0-4e43-9d5f-237b7a91e463\n",
        "857ff7ec-20db-4154-a9aa-7b5c1529e9e3\n",
        "CALLBACK\n",
        "d16c2a55-9a6d-490e-8dda-75bb5cfded60\n",
        "6a2049f0-af8f-4df4-be94-7ec1a72a3642\n",
        "7b431992-93a0-472a-be73-af0f8bef04a3\n",
        "f71276cb-12f7-4109-b5e7-bd525f8064c2\n",
        "226ff729-45b0-4638-b015-0b51f0c91749\n"
       ]
      }
     ],
     "prompt_number": 51
    },
    {
     "cell_type": "code",
     "collapsed": false,
     "input": [
      "print \"This is to clear the rest of the callbacks (ipython notebook issue)\""
     ],
     "language": "python",
     "metadata": {},
     "outputs": [
      {
       "output_type": "stream",
       "stream": "stdout",
       "text": [
        "CALLBACK\n",
        "CALLBACK\n",
        "CALLBACK\n",
        "CALLBACK\n",
        "CALLBACK\n",
        "CALLBACK\n",
        "CALLBACK\n",
        "This is to clear the rest of the callbacks (ipython notebook issue)\n"
       ]
      }
     ],
     "prompt_number": 52
    },
    {
     "cell_type": "markdown",
     "metadata": {},
     "source": [
      "Concurrency with `cassandra.concurrent`\n",
      "------------------------------------------\n",
      "We have other options to take advantage of the built in concurrency.  Let's try selecting the last 3 readings from each sensor back out.  We can prepare a statement, and execute that prepared statement with a list of arguments.  For example:"
     ]
    },
    {
     "cell_type": "code",
     "collapsed": false,
     "input": [
      "from cassandra.concurrent import execute_concurrent_with_args\n",
      "\n",
      "select_statement = session.prepare(\"SELECT * FROM sensor_data WHERE sensor_id=? ORDER BY created_at DESC LIMIT 1\")\n",
      "\n",
      "print \"Sensor IDS:\", sensor_ids\n",
      "\n",
      "result = execute_concurrent_with_args(session, select_statement, sensor_ids)\n",
      "for x in result:\n",
      "    print \"result:\", x"
     ],
     "language": "python",
     "metadata": {},
     "outputs": [
      {
       "output_type": "stream",
       "stream": "stdout",
       "text": [
        "CALLBACK\n",
        "CALLBACK\n",
        "Sensor IDS: [[UUID('93f92e9c-dcae-4a5d-a672-2147ded7259e')], [UUID('095121af-297a-4252-91fa-a6294b63b3f1')], [UUID('5a5d061e-24b8-413e-9277-ede4ca01ab79')], [UUID('b272009d-8fa0-4e43-9d5f-237b7a91e463')], [UUID('857ff7ec-20db-4154-a9aa-7b5c1529e9e3')], [UUID('d16c2a55-9a6d-490e-8dda-75bb5cfded60')], [UUID('6a2049f0-af8f-4df4-be94-7ec1a72a3642')], [UUID('7b431992-93a0-472a-be73-af0f8bef04a3')], [UUID('f71276cb-12f7-4109-b5e7-bd525f8064c2')], [UUID('226ff729-45b0-4638-b015-0b51f0c91749')]]\n",
        "result: (True, [Row(sensor_id=UUID('93f92e9c-dcae-4a5d-a672-2147ded7259e'), created_at=UUID('c89e0ce6-52f9-11e4-bf64-3c15c2c26c1e'), reading=158)])\n",
        "result: (True, [Row(sensor_id=UUID('095121af-297a-4252-91fa-a6294b63b3f1'), created_at=UUID('c89ea317-52f9-11e4-b8ad-3c15c2c26c1e'), reading=4)])\n",
        "result: (True, [Row(sensor_id=UUID('5a5d061e-24b8-413e-9277-ede4ca01ab79'), created_at=UUID('c89f3a42-52f9-11e4-87ec-3c15c2c26c1e'), reading=324)])\n",
        "result: (True, [Row(sensor_id=UUID('b272009d-8fa0-4e43-9d5f-237b7a91e463'), created_at=UUID('c89ef6cf-52f9-11e4-ac8f-3c15c2c26c1e'), reading=747)])\n",
        "result: (True, [Row(sensor_id=UUID('857ff7ec-20db-4154-a9aa-7b5c1529e9e3'), created_at=UUID('c89f700f-52f9-11e4-9e60-3c15c2c26c1e'), reading=760)])\n",
        "result: (True, [Row(sensor_id=UUID('d16c2a55-9a6d-490e-8dda-75bb5cfded60'), created_at=UUID('c8a224e6-52f9-11e4-9d83-3c15c2c26c1e'), reading=251)])\n",
        "result: (True, [Row(sensor_id=UUID('6a2049f0-af8f-4df4-be94-7ec1a72a3642'), created_at=UUID('c89fabe3-52f9-11e4-9317-3c15c2c26c1e'), reading=408)])\n",
        "result: (True, [Row(sensor_id=UUID('7b431992-93a0-472a-be73-af0f8bef04a3'), created_at=UUID('c89ff27d-52f9-11e4-a047-3c15c2c26c1e'), reading=101)])\n",
        "result: (True, [Row(sensor_id=UUID('f71276cb-12f7-4109-b5e7-bd525f8064c2'), created_at=UUID('c8a2648a-52f9-11e4-bb94-3c15c2c26c1e'), reading=847)])\n",
        "result: (True, [Row(sensor_id=UUID('226ff729-45b0-4638-b015-0b51f0c91749'), created_at=UUID('c8a04966-52f9-11e4-8970-3c15c2c26c1e'), reading=733)])\n"
       ]
      }
     ],
     "prompt_number": 53
    },
    {
     "cell_type": "markdown",
     "metadata": {},
     "source": [
      "Understanding Performance Through Tracing\n",
      "------------------------------------------------\n",
      "The native driver exposes a convenient means of getting metrics from Cassandra's internals."
     ]
    },
    {
     "cell_type": "code",
     "collapsed": false,
     "input": [
      "from cassandra.query import SimpleStatement\n",
      "statement = SimpleStatement(\"SELECT * from sensor_data WHERE sensor_id=%s LIMIT 1\")\n",
      "result = session.execute(statement, sensor_ids[0], trace=True)\n",
      "\n",
      "for event in statement.trace.events:\n",
      "    print event.source_elapsed, event.description\n"
     ],
     "language": "python",
     "metadata": {},
     "outputs": [
      {
       "output_type": "stream",
       "stream": "stdout",
       "text": [
        "0:00:00.000068 Parsing SELECT * from sensor_data WHERE sensor_id=93f92e9c-dcae-4a5d-a672-2147ded7259e LIMIT 1\n",
        "0:00:00.000143 Preparing statement\n",
        "0:00:00.000339 Executing single-partition query on sensor_data\n",
        "0:00:00.000352 Acquiring sstable references\n",
        "0:00:00.000365 Merging memtable tombstones\n",
        "0:00:00.000395 Skipped 0/0 non-slice-intersecting sstables, included 0 due to tombstones\n",
        "0:00:00.000404 Merging data from memtables and 0 sstables\n",
        "0:00:00.000424 Read 2 live and 0 tombstoned cells\n"
       ]
      }
     ],
     "prompt_number": 54
    },
    {
     "cell_type": "markdown",
     "metadata": {},
     "source": [
      "Load Balancing Policies\n",
      "--------------------------\n",
      "\n",
      "The native driver will manage the connection pool for you, but by default it uses a `RoundRobinPolicy` to pick which server it talks to.  In your cluster, this means it'll talk to every machine in every datacenter.  This is ok if you only have 1 cluster but most of the time you're going to want to only talk to machines in the datacenter you're in.  For futher reading check out the [load balancing policies](http://datastax.github.io/python-driver/api/cassandra/policies.html#cassandra.policies.LoadBalancingPolicy) section of the native driver docs.\n"
     ]
    },
    {
     "cell_type": "code",
     "collapsed": false,
     "input": [
      "from cassandra.policies import DCAwareRoundRobinPolicy, TokenAwarePolicy\n",
      "\n",
      "# load local_dc string from environment or config in a real codebase\n",
      "policy = TokenAwarePolicy(DCAwareRoundRobinPolicy(local_dc='US_EAST')) \n",
      "\n",
      "token_aware_cluster = Cluster(['127.0.0.1'], load_balancing_policy=policy)"
     ],
     "language": "python",
     "metadata": {},
     "outputs": [],
     "prompt_number": 55
    },
    {
     "cell_type": "markdown",
     "metadata": {},
     "source": [
      "Lightweight Transactions\n",
      "===========================\n",
      "Lightweight transactions allow us to avoid race conditions by using Paxos.  Let's set up a user table to use in our examples."
     ]
    },
    {
     "cell_type": "code",
     "collapsed": false,
     "input": [
      "user_table = \"\"\"\n",
      "CREATE TABLE user (\n",
      "    user_id int primary key,\n",
      "    name text\n",
      "    )\n",
      "\"\"\"\n",
      "session.execute(\"DROP TABLE IF EXISTS user\")\n",
      "session.execute(user_table)\n",
      "print \"User table created: \" , user_table"
     ],
     "language": "python",
     "metadata": {},
     "outputs": [
      {
       "output_type": "stream",
       "stream": "stdout",
       "text": [
        "User table created:  \n",
        "CREATE TABLE user (\n",
        "    user_id int primary key,\n",
        "    name text\n",
        "    )\n",
        "\n"
       ]
      }
     ],
     "prompt_number": 56
    },
    {
     "cell_type": "markdown",
     "metadata": {},
     "source": [
      "Inserts\n",
      "-------------"
     ]
    },
    {
     "cell_type": "code",
     "collapsed": false,
     "input": [
      "insert = \"INSERT INTO user (user_id, name) values (1, 'jon') IF NOT EXISTS\"\n",
      "# what if this ran a millisecond after we just put steve in the system?\n",
      "insert2 = \"INSERT INTO user (user_id, name) values (1, 'steve') IF NOT EXISTS\"\n",
      "\n",
      "print \"first query: \" , session.execute(insert)\n",
      "\n",
      "print \"second query: \" , session.execute(insert2)"
     ],
     "language": "python",
     "metadata": {},
     "outputs": [
      {
       "output_type": "stream",
       "stream": "stdout",
       "text": [
        "first query:  [Row(applied=True)]\n",
        "second query:  [Row(applied=False, user_id=1, name=u'jon')]\n"
       ]
      }
     ],
     "prompt_number": 57
    },
    {
     "cell_type": "markdown",
     "metadata": {},
     "source": [
      "Updates\n",
      "----------"
     ]
    },
    {
     "cell_type": "code",
     "collapsed": false,
     "input": [
      "update_lwt = \"UPDATE user SET name = 'steve' where user_id = 1 IF name = 'jon'\"\n",
      "print \"update result: \", session.execute(update_lwt)\n",
      "\n",
      "update_lwt = \"UPDATE user SET name = 'joe' where user_id = 1 IF name = 'jon'\"\n",
      "print \"update result: \", session.execute(update_lwt)"
     ],
     "language": "python",
     "metadata": {},
     "outputs": [
      {
       "output_type": "stream",
       "stream": "stdout",
       "text": [
        "update result:  [Row(applied=True)]\n",
        "update result:  [Row(applied=False, name=u'steve')]\n"
       ]
      }
     ],
     "prompt_number": 58
    },
    {
     "cell_type": "code",
     "collapsed": false,
     "input": [],
     "language": "python",
     "metadata": {},
     "outputs": [],
     "prompt_number": 58
    }
   ],
   "metadata": {}
  }
 ]
}