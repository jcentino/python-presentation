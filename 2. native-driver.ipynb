{
 "metadata": {
  "name": "",
  "signature": "sha256:81165a73b4ae70c90e5f1d21877e3b61a27224a3bdf7363ff1f2d65f58ce77c6"
 },
 "nbformat": 3,
 "nbformat_minor": 0,
 "worksheets": [
  {
   "cells": [
    {
     "cell_type": "markdown",
     "metadata": {},
     "source": [
      "Native Driver Introduction\n",
      "=============================\n",
      "\n",
      "Welcome to the Python native driver tutorial.  This tutorial will be constantly evolving as feedback is incorperated.  Pull requests are encouraged!  This is fully open source, feel free to fork and deliver it at other meetups!\n",
      "\n",
      "Check out the [documenation](http://datastax.github.io/python-driver/) and the [github repo](https://github.com/datastax/python-driver)."
     ]
    },
    {
     "cell_type": "markdown",
     "metadata": {},
     "source": [
      "We're going to assume a keyspace named tutorial exists\n",
      "\n",
      "In a CQL shell, we can do this:\n",
      "\n",
      "> CREATE KEYSPACE if not exists tutorial WITH replication = {'class': 'SimpleStrategy', 'replication_factor': 1};\n",
      "\n",
      "we'll create the rest of the tables programatically"
     ]
    },
    {
     "cell_type": "code",
     "collapsed": false,
     "input": [
      "%load_ext cql"
     ],
     "language": "python",
     "metadata": {},
     "outputs": []
    },
    {
     "cell_type": "code",
     "collapsed": false,
     "input": [
      "%cql DROP KEYSPACE IF EXISTS tutorial;\n",
      "%cql CREATE KEYSPACE IF NOT EXISTS tutorial WITH replication = {'class': 'SimpleStrategy', 'replication_factor': 1}; "
     ],
     "language": "python",
     "metadata": {},
     "outputs": []
    },
    {
     "cell_type": "code",
     "collapsed": false,
     "input": [
      "# here we set up our database connection\n",
      "from cassandra.cluster import Cluster\n",
      "cluster = Cluster([\"127.0.0.1\"])\n",
      "\n",
      "# a session manages the connection pool for us\n",
      "session = cluster.connect(\"tutorial\")\n",
      "print \"Connected\""
     ],
     "language": "python",
     "metadata": {},
     "outputs": [
      {
       "output_type": "stream",
       "stream": "stdout",
       "text": [
        "Connected\n"
       ]
      }
     ],
     "prompt_number": 3
    },
    {
     "cell_type": "markdown",
     "metadata": {},
     "source": [
      "Table Setup\n",
      "-------------------"
     ]
    },
    {
     "cell_type": "code",
     "collapsed": false,
     "input": [
      "# basic table setup\n",
      "tables = [\"photo\", \"comment\"]\n",
      "\n",
      "# drop the existing ones.  can't use a placeholder for \n",
      "# DROP TABLE so we just use python string interpolation\n",
      "for table in tables:\n",
      "    session.execute(\"DROP TABLE if exists %s\" % table)\n",
      "    "
     ],
     "language": "python",
     "metadata": {},
     "outputs": []
    },
    {
     "cell_type": "code",
     "collapsed": false,
     "input": [
      "photo = \"\"\"\n",
      "CREATE TABLE photo (\n",
      "  photo_id uuid,\n",
      "  name text,\n",
      "  PRIMARY KEY (photo_id)\n",
      ")\n",
      "\"\"\"\n",
      "\n",
      "comment = \"\"\"\n",
      "CREATE TABLE comment (\n",
      "  photo_id uuid,\n",
      "  comment_id timeuuid,\n",
      "  comment text,\n",
      "  PRIMARY KEY (photo_id, comment_id)\n",
      ") WITH CLUSTERING ORDER BY (comment_id DESC)\n",
      "\"\"\"\n",
      "\n",
      "session.execute(photo)\n",
      "session.execute(comment)"
     ],
     "language": "python",
     "metadata": {},
     "outputs": [],
     "prompt_number": 8
    },
    {
     "cell_type": "markdown",
     "metadata": {},
     "source": [
      "Prepared Statements\n",
      "========================\n",
      "We're going to populate photos using prepared statements.\n",
      "\n",
      "Prepared statements are more secure and decrease server load."
     ]
    },
    {
     "cell_type": "code",
     "collapsed": false,
     "input": [
      "import uuid\n",
      "insert = session.prepare(\"INSERT INTO photo (photo_id, name) VALUES (?, ?)\")\n",
      "\n",
      "for x in range(100):\n",
      "    session.execute(insert, (uuid.uuid4(), \"test %d\" % x))\n",
      "\n",
      "for photo in session.execute(\"SELECT * from photo limit 5\"):\n",
      "    print photo"
     ],
     "language": "python",
     "metadata": {},
     "outputs": [
      {
       "output_type": "stream",
       "stream": "stdout",
       "text": [
        "Row(photo_id=UUID('c21ae64a-6ba1-44ea-a223-0536dcbaea60'), name=u'test 66')\n",
        "Row(photo_id=UUID('9684dc21-a8f1-419e-b42d-2b4b10bb0774'), name=u'test 60')\n",
        "Row(photo_id=UUID('5274a8ec-cea6-4fdc-a206-88cce4e07afd'), name=u'test 25')\n",
        "Row(photo_id=UUID('ae0359a5-6e89-47ec-97c7-e25d84c6d041'), name=u'test 1')\n",
        "Row(photo_id=UUID('64314d48-85cd-46f0-ab39-005aafdd54ee'), name=u'test 71')\n"
       ]
      }
     ],
     "prompt_number": 9
    },
    {
     "cell_type": "code",
     "collapsed": false,
     "input": [
      "# lets get a nice visual of some sensor data!\n",
      "\n",
      "session.execute(\"DROP TABLE IF EXISTS sensor_data\")\n",
      "sensor_table = \"\"\"\n",
      "CREATE TABLE sensor_data (\n",
      "  sensor_id uuid,\n",
      "  created_at timeuuid,\n",
      "  reading int,\n",
      "  PRIMARY KEY (sensor_id, created_at)\n",
      ") WITH CLUSTERING ORDER BY (created_at DESC)\n",
      "\"\"\"\n",
      "\n",
      "session.execute(sensor_table)\n",
      "\n",
      "from uuid import uuid1, uuid4\n",
      "from random import randint\n",
      "\n",
      "insert = session.prepare(\"INSERT INTO sensor_data (sensor_id, created_at, reading) VALUES (?, ?, ?)\")\n",
      "\n",
      "sid = uuid4()\n",
      "for x in range(100):\n",
      "    session.execute(insert, (sid, uuid.uuid1(), randint(1, 1000)))\n",
      "\n",
      "\n"
     ],
     "language": "python",
     "metadata": {},
     "outputs": []
    },
    {
     "cell_type": "markdown",
     "metadata": {},
     "source": [
      "Performance\n",
      "============"
     ]
    },
    {
     "cell_type": "markdown",
     "metadata": {},
     "source": [
      "The Python driver works best when taking advantage of it's asynchronous features.  \n",
      "\n",
      "First, we'll insert our sensor data.  Here's we'll use a callback to insert some data after we've created the initial sensor entry."
     ]
    },
    {
     "cell_type": "code",
     "collapsed": false,
     "input": [
      "from datetime import datetime\n",
      "from random import randint\n",
      "\n",
      "session.execute(\"TRUNCATE sensor_data\")\n",
      "session.execute(\"DROP TABLE IF EXISTS sensor\")\n",
      "sensor_table = \"\"\"\n",
      "CREATE TABLE sensor (\n",
      "  sensor_id uuid,\n",
      "  name text,\n",
      "  created_at timestamp,\n",
      "  PRIMARY KEY (sensor_id)\n",
      ")\n",
      "\"\"\"\n",
      "\n",
      "session.execute(sensor_table)\n",
      "\n",
      "\"\"\"\n",
      "from earlier defined table:\n",
      "\n",
      "    sensor_data:\n",
      "      sensor_id uuid,\n",
      "      created_at timeuuid,\n",
      "      reading int,\n",
      "\"\"\""
     ],
     "language": "python",
     "metadata": {},
     "outputs": [
      {
       "metadata": {},
       "output_type": "pyout",
       "prompt_number": 10,
       "text": [
        "'\\nfrom earlier defined table:\\n\\n    sensor_data:\\n      sensor_id uuid,\\n      created_at timeuuid,\\n      reading int,\\n'"
       ]
      }
     ],
     "prompt_number": 10
    },
    {
     "cell_type": "code",
     "collapsed": false,
     "input": [
      "insert_sensor = session.prepare(\"\"\"INSERT INTO sensor (sensor_id, name, created_at) \n",
      "                                    VALUES (?, ?, ?)\"\"\")\n",
      "\n",
      "def create_sensor_entries_callback(response, sensor_id):\n",
      "    print \"CALLBACK\"\n",
      "\n",
      "for x in range(10):\n",
      "    sensor_data = (uuid.uuid4(), \"sensor %d\" % x, datetime.now())\n",
      "    future = session.execute_async(insert_sensor, sensor_data)\n",
      "    future.add_callback(create_sensor_entries_callback, sensor_id)"
     ],
     "language": "python",
     "metadata": {},
     "outputs": [
      {
       "output_type": "stream",
       "stream": "stdout",
       "text": [
        "CALLBACK\n",
        "CALLBACK\n",
        "CALLBACK\n",
        "CALLBACK\n",
        "CALLBACK\n",
        "CALLBACK\n",
        "CALLBACK\n",
        "CALLBACK\n",
        "CALLBACK\n"
       ]
      },
      {
       "output_type": "stream",
       "stream": "stdout",
       "text": [
        "CALLBACK\n",
        "CALLBACK\n",
        "CALLBACK\n",
        "CALLBACK\n",
        "CALLBACK\n",
        "CALLBACK\n",
        "CALLBACK\n",
        "CALLBACK\n"
       ]
      }
     ],
     "prompt_number": 13
    },
    {
     "cell_type": "code",
     "collapsed": false,
     "input": [
      "insert_sensor = session.prepare(\"\"\"INSERT INTO sensor (sensor_id, name, created_at) \n",
      "                                    VALUES (?, ?, ?)\"\"\")\n",
      "insert_sensor_data = session.prepare(\"\"\"INSERT INTO sensor_data (sensor_id, created_at, reading) \n",
      "                                         VALUES (?, ?, ?)\"\"\")\n",
      "\n",
      "# CALLBACK: for each sensor we're going to create 100 sensor entires\n",
      "def create_sensor_entries_callback(response, sensor_id):\n",
      "    print \"CALLBACK\"\n",
      "    for x in range(10):\n",
      "        session.execute_async(insert_sensor_data, (sensor_id, uuid1(), randint(1, 1000)))\n",
      "\n",
      "futures = []\n",
      "sensor_ids = []\n",
      "\n",
      "for x in range(10):\n",
      "    sensor_id = uuid.uuid4()\n",
      "    print sensor_id\n",
      "    future = session.execute_async(insert_sensor, (sensor_id, \"sensor %d\" % x, datetime.now()))\n",
      "    future.add_callback(create_sensor_entries_callback, sensor_id)\n",
      "    futures.append(future)\n",
      "    sensor_ids.append([sensor_id]) # we'll save this for later as a list of tuples"
     ],
     "language": "python",
     "metadata": {},
     "outputs": [
      {
       "output_type": "stream",
       "stream": "stdout",
       "text": [
        "94610293-2e3c-4f41-a81a-587a805b901b\n",
        "e692f8bd-a0d6-43e6-8521-f38911640971\n",
        "d8bd41ff-1d3a-4492-9d47-6775f7d7b277\n",
        "2ec54f8a-6a96-40c0-97cb-01cc5d358913\n",
        "1bdeac75-7e12-43ba-80b5-2d38405f9843\n",
        "CALLBACK\n",
        "100e26b6-e61e-4936-a762-2db40f1fc35e\n",
        "CALLBACK\n",
        "342cecbf-1e2d-4d76-a8ba-33e308ae8fdb\n",
        "CALLBACK\n",
        "657f5b3d-b153-41b6-b107-9a9d7889c7df\n",
        "d8e855da-2638-4154-a24c-4dbe3f55aab6\n",
        "ec4aeb13-64a4-42c7-966f-bbaaa8c2cb55\n"
       ]
      },
      {
       "output_type": "stream",
       "stream": "stderr",
       "text": [
        "ERROR:cassandra.cluster:Unexpected exception while handling result in ResponseFuture:\n",
        "Traceback (most recent call last):\n",
        "  File \"build/bdist.macosx-10.9-x86_64/egg/cassandra/cluster.py\", line 2720, in _set_result\n",
        "    self._set_final_result(results)\n",
        "  File \"build/bdist.macosx-10.9-x86_64/egg/cassandra/cluster.py\", line 2889, in _set_final_result\n",
        "    fn(response, *args, **kwargs)\n",
        "  File \"<ipython-input-12-7e77607bd240>\", line 10, in create_sensor_entries_callback\n",
        "    session.execute_async(insert_sensor_data, (sensor_id, uuid1(), randint(1, 1000)))\n",
        "NameError: global name 'uuid1' is not defined\n",
        "ERROR:cassandra.cluster:Unexpected exception while handling result in ResponseFuture:\n",
        "Traceback (most recent call last):\n",
        "  File \"build/bdist.macosx-10.9-x86_64/egg/cassandra/cluster.py\", line 2720, in _set_result\n",
        "    self._set_final_result(results)\n",
        "  File \"build/bdist.macosx-10.9-x86_64/egg/cassandra/cluster.py\", line 2889, in _set_final_result\n",
        "    fn(response, *args, **kwargs)\n",
        "  File \"<ipython-input-12-7e77607bd240>\", line 10, in create_sensor_entries_callback\n",
        "    session.execute_async(insert_sensor_data, (sensor_id, uuid1(), randint(1, 1000)))\n",
        "NameError: global name 'uuid1' is not defined\n",
        "ERROR:cassandra.cluster:Unexpected exception while handling result in ResponseFuture:\n",
        "Traceback (most recent call last):\n",
        "  File \"build/bdist.macosx-10.9-x86_64/egg/cassandra/cluster.py\", line 2720, in _set_result\n",
        "    self._set_final_result(results)\n",
        "  File \"build/bdist.macosx-10.9-x86_64/egg/cassandra/cluster.py\", line 2889, in _set_final_result\n",
        "    fn(response, *args, **kwargs)\n",
        "  File \"<ipython-input-12-7e77607bd240>\", line 10, in create_sensor_entries_callback\n",
        "    session.execute_async(insert_sensor_data, (sensor_id, uuid1(), randint(1, 1000)))\n",
        "NameError: global name 'uuid1' is not defined\n"
       ]
      },
      {
       "output_type": "stream",
       "stream": "stderr",
       "text": [
        "ERROR:cassandra.cluster:Unexpected exception while handling result in ResponseFuture:\n",
        "Traceback (most recent call last):\n",
        "  File \"build/bdist.macosx-10.9-x86_64/egg/cassandra/cluster.py\", line 2720, in _set_result\n",
        "    self._set_final_result(results)\n",
        "  File \"build/bdist.macosx-10.9-x86_64/egg/cassandra/cluster.py\", line 2889, in _set_final_result\n",
        "    fn(response, *args, **kwargs)\n",
        "  File \"<ipython-input-12-7e77607bd240>\", line 10, in create_sensor_entries_callback\n",
        "    session.execute_async(insert_sensor_data, (sensor_id, uuid1(), randint(1, 1000)))\n",
        "NameError: global name 'uuid1' is not defined\n",
        "ERROR:cassandra.cluster:Unexpected exception while handling result in ResponseFuture:\n",
        "Traceback (most recent call last):\n",
        "  File \"build/bdist.macosx-10.9-x86_64/egg/cassandra/cluster.py\", line 2720, in _set_result\n",
        "    self._set_final_result(results)\n",
        "  File \"build/bdist.macosx-10.9-x86_64/egg/cassandra/cluster.py\", line 2889, in _set_final_result\n",
        "    fn(response, *args, **kwargs)\n",
        "  File \"<ipython-input-12-7e77607bd240>\", line 10, in create_sensor_entries_callback\n",
        "    session.execute_async(insert_sensor_data, (sensor_id, uuid1(), randint(1, 1000)))\n",
        "NameError: global name 'uuid1' is not defined\n",
        "ERROR:cassandra.cluster:Unexpected exception while handling result in ResponseFuture:\n",
        "Traceback (most recent call last):\n",
        "  File \"build/bdist.macosx-10.9-x86_64/egg/cassandra/cluster.py\", line 2720, in _set_result\n",
        "    self._set_final_result(results)\n",
        "  File \"build/bdist.macosx-10.9-x86_64/egg/cassandra/cluster.py\", line 2889, in _set_final_result\n",
        "    fn(response, *args, **kwargs)\n",
        "  File \"<ipython-input-12-7e77607bd240>\", line 10, in create_sensor_entries_callback\n",
        "    session.execute_async(insert_sensor_data, (sensor_id, uuid1(), randint(1, 1000)))\n",
        "NameError: global name 'uuid1' is not defined\n",
        "ERROR:cassandra.cluster:Unexpected exception while handling result in ResponseFuture:\n",
        "Traceback (most recent call last):\n",
        "  File \"build/bdist.macosx-10.9-x86_64/egg/cassandra/cluster.py\", line 2720, in _set_result\n",
        "    self._set_final_result(results)\n",
        "  File \"build/bdist.macosx-10.9-x86_64/egg/cassandra/cluster.py\", line 2889, in _set_final_result\n",
        "    fn(response, *args, **kwargs)\n",
        "  File \"<ipython-input-12-7e77607bd240>\", line 10, in create_sensor_entries_callback\n",
        "    session.execute_async(insert_sensor_data, (sensor_id, uuid1(), randint(1, 1000)))\n",
        "NameError: global name 'uuid1' is not defined\n",
        "ERROR:cassandra.cluster:Unexpected exception while handling result in ResponseFuture:\n",
        "Traceback (most recent call last):\n",
        "  File \"build/bdist.macosx-10.9-x86_64/egg/cassandra/cluster.py\", line 2720, in _set_result\n",
        "    self._set_final_result(results)\n",
        "  File \"build/bdist.macosx-10.9-x86_64/egg/cassandra/cluster.py\", line 2889, in _set_final_result\n",
        "    fn(response, *args, **kwargs)\n",
        "  File \"<ipython-input-12-7e77607bd240>\", line 10, in create_sensor_entries_callback\n",
        "    session.execute_async(insert_sensor_data, (sensor_id, uuid1(), randint(1, 1000)))\n",
        "NameError: global name 'uuid1' is not defined\n",
        "ERROR:cassandra.cluster:Unexpected exception while handling result in ResponseFuture:\n",
        "Traceback (most recent call last):\n",
        "  File \"build/bdist.macosx-10.9-x86_64/egg/cassandra/cluster.py\", line 2720, in _set_result\n",
        "    self._set_final_result(results)\n",
        "  File \"build/bdist.macosx-10.9-x86_64/egg/cassandra/cluster.py\", line 2889, in _set_final_result\n",
        "    fn(response, *args, **kwargs)\n",
        "  File \"<ipython-input-12-7e77607bd240>\", line 10, in create_sensor_entries_callback\n",
        "    session.execute_async(insert_sensor_data, (sensor_id, uuid1(), randint(1, 1000)))\n",
        "NameError: global name 'uuid1' is not defined\n",
        "ERROR:cassandra.cluster:Unexpected exception while handling result in ResponseFuture:\n",
        "Traceback (most recent call last):\n",
        "  File \"build/bdist.macosx-10.9-x86_64/egg/cassandra/cluster.py\", line 2720, in _set_result\n",
        "    self._set_final_result(results)\n",
        "  File \"build/bdist.macosx-10.9-x86_64/egg/cassandra/cluster.py\", line 2889, in _set_final_result\n",
        "    fn(response, *args, **kwargs)\n",
        "  File \"<ipython-input-12-7e77607bd240>\", line 10, in create_sensor_entries_callback\n",
        "    session.execute_async(insert_sensor_data, (sensor_id, uuid1(), randint(1, 1000)))\n",
        "NameError: global name 'uuid1' is not defined\n"
       ]
      }
     ],
     "prompt_number": 12
    },
    {
     "cell_type": "code",
     "collapsed": false,
     "input": [
      "print \"This is to clear the rest of the callbacks (ipython notebook issue)\""
     ],
     "language": "python",
     "metadata": {},
     "outputs": []
    },
    {
     "cell_type": "markdown",
     "metadata": {},
     "source": [
      "Concurrency with `cassandra.concurrent`\n",
      "------------------------------------------\n",
      "We have other options to take advantage of the built in concurrency.  Let's try selecting the last 3 readings from each sensor back out.  We can prepare a statement, and execute that prepared statement with a list of arguments.  For example:"
     ]
    },
    {
     "cell_type": "code",
     "collapsed": false,
     "input": [
      "from cassandra.concurrent import execute_concurrent_with_args\n",
      "\n",
      "select_statement = session.prepare(\"\"\"SELECT * FROM sensor_data WHERE sensor_id=? \n",
      "                                        ORDER BY created_at DESC LIMIT 1\"\"\")\n",
      "\n",
      "print \"Sensor IDS:\", sensor_ids\n",
      "\n",
      "result = execute_concurrent_with_args(session, select_statement, sensor_ids)\n",
      "for x in result:\n",
      "    print \"result:\", x"
     ],
     "language": "python",
     "metadata": {},
     "outputs": []
    },
    {
     "cell_type": "markdown",
     "metadata": {},
     "source": [
      "Understanding Performance Through Tracing\n",
      "------------------------------------------------\n",
      "The native driver exposes a convenient means of getting metrics from Cassandra's internals."
     ]
    },
    {
     "cell_type": "code",
     "collapsed": false,
     "input": [
      "from cassandra.query import SimpleStatement\n",
      "statement = SimpleStatement(\"SELECT * from sensor_data WHERE sensor_id=%s LIMIT 1\")\n",
      "result = session.execute(statement, sensor_ids[0], trace=True)\n",
      "\n",
      "for event in statement.trace.events:\n",
      "    print event.source_elapsed, event.description\n"
     ],
     "language": "python",
     "metadata": {},
     "outputs": []
    },
    {
     "cell_type": "markdown",
     "metadata": {},
     "source": [
      "Load Balancing Policies\n",
      "--------------------------\n",
      "\n",
      "The native driver will manage the connection pool for you, but by default it uses a `RoundRobinPolicy` to pick which server it talks to.  In your cluster, this means it'll talk to every machine in every datacenter.  This is ok if you only have 1 cluster but most of the time you're going to want to only talk to machines in the datacenter you're in.  For futher reading check out the [load balancing policies](http://datastax.github.io/python-driver/api/cassandra/policies.html#cassandra.policies.LoadBalancingPolicy) section of the native driver docs.\n"
     ]
    },
    {
     "cell_type": "code",
     "collapsed": false,
     "input": [
      "from cassandra.policies import DCAwareRoundRobinPolicy, TokenAwarePolicy\n",
      "\n",
      "# load local_dc string from environment or config in a real codebase\n",
      "policy = TokenAwarePolicy(DCAwareRoundRobinPolicy(local_dc='US_EAST')) \n",
      "\n",
      "token_aware_cluster = Cluster(['127.0.0.1'], load_balancing_policy=policy)"
     ],
     "language": "python",
     "metadata": {},
     "outputs": []
    },
    {
     "cell_type": "markdown",
     "metadata": {},
     "source": [
      "Lightweight Transactions\n",
      "===========================\n",
      "Lightweight transactions allow us to avoid race conditions by using Paxos.  Let's set up a user table to use in our examples."
     ]
    },
    {
     "cell_type": "code",
     "collapsed": false,
     "input": [
      "user_table = \"\"\"\n",
      "CREATE TABLE user (\n",
      "    user_id int primary key,\n",
      "    name text\n",
      "    )\n",
      "\"\"\"\n",
      "session.execute(\"DROP TABLE IF EXISTS user\")\n",
      "session.execute(user_table)\n",
      "print \"User table created: \" , user_table"
     ],
     "language": "python",
     "metadata": {},
     "outputs": []
    },
    {
     "cell_type": "markdown",
     "metadata": {},
     "source": [
      "LWT Inserts\n",
      "-------------"
     ]
    },
    {
     "cell_type": "code",
     "collapsed": false,
     "input": [
      "insert = \"INSERT INTO user (user_id, name) values (1, 'jon') IF NOT EXISTS\"\n",
      "# what if this ran a millisecond after we just put steve in the system?\n",
      "insert2 = \"INSERT INTO user (user_id, name) values (1, 'steve') IF NOT EXISTS\"\n",
      "\n",
      "print \"first query: \" , session.execute(insert)\n",
      "\n",
      "print \"second query: \" , session.execute(insert2)"
     ],
     "language": "python",
     "metadata": {},
     "outputs": []
    },
    {
     "cell_type": "markdown",
     "metadata": {},
     "source": [
      "LWT Updates\n",
      "----------"
     ]
    },
    {
     "cell_type": "code",
     "collapsed": false,
     "input": [
      "update_lwt = \"UPDATE user SET name = 'steve' where user_id = 1 IF name = 'jon'\"\n",
      "print \"update result: \", session.execute(update_lwt)\n",
      "\n",
      "update_lwt = \"UPDATE user SET name = 'joe' where user_id = 1 IF name = 'jon'\"\n",
      "print \"update result: \", session.execute(update_lwt)"
     ],
     "language": "python",
     "metadata": {},
     "outputs": []
    },
    {
     "cell_type": "markdown",
     "metadata": {},
     "source": [
      "User Defined Types\n",
      "========================"
     ]
    },
    {
     "cell_type": "markdown",
     "metadata": {},
     "source": [
      "User defined types allow you to create complex data structures in Cassandra. "
     ]
    },
    {
     "cell_type": "code",
     "collapsed": false,
     "input": [
      "session.execute(\"DROP TABLE IF EXISTS users\")\n",
      "session.execute(\"DROP TYPE IF EXISTS address\")\n",
      "\n",
      "session.execute(\"CREATE TYPE tutorial.address (street text, zipcode int)\")\n",
      "session.execute(\"CREATE TABLE users (id int PRIMARY KEY, location frozen<address>)\")\n",
      "\n",
      "cluster = Cluster() # dirty fix for issue with ipython & async\n",
      "session = cluster.connect(\"tutorial\")\n",
      "\n",
      "# create a class to map to the \"address\" UDT\n",
      "class Address(object):\n",
      "    def __init__(self, street, zipcode):\n",
      "        self.street = street\n",
      "        self.zipcode = zipcode\n",
      "\n",
      "print cluster.metadata.keyspaces['tutorial']\n",
      "cluster.register_user_type('tutorial', 'address', Address)\n",
      "\n",
      "# insert a row using an instance of Address\n",
      "session.execute(\"INSERT INTO users (id, location) VALUES (%s, %s)\",\n",
      "                (0, Address(\"123 Main St.\", 78723)))\n",
      "\n",
      "# results will include Address instances\n",
      "results = session.execute(\"SELECT * FROM users\")\n",
      "row = results[0]\n",
      "print row.id, row.location.street, row.location.zipcode"
     ],
     "language": "python",
     "metadata": {},
     "outputs": []
    },
    {
     "cell_type": "code",
     "collapsed": false,
     "input": [
      "session.execute(\"CREATE TABLE geo_location (user_id uuid, ts timeuuid, geo frozen<tuple<float,float>>, primary key (user_id, ts))\")"
     ],
     "language": "python",
     "metadata": {},
     "outputs": []
    },
    {
     "cell_type": "markdown",
     "metadata": {},
     "source": [
      "Named Tuples\n",
      "==============="
     ]
    },
    {
     "cell_type": "code",
     "collapsed": false,
     "input": [
      "user_id = uuid4()\n",
      "ts = uuid1()\n",
      "\n",
      "session.execute(\"TRUNCATE geo_location\")\n",
      "\n",
      "session.execute(\"\"\"INSERT INTO geo_location (user_id, ts, geo) \n",
      "                    VALUES (%s, %s, (%s, %s))\"\"\", \n",
      "                  (user_id, ts, 1.0, 2.0))\n",
      "print session.execute(\"SELECT * from geo_location\")[0]"
     ],
     "language": "python",
     "metadata": {},
     "outputs": []
    },
    {
     "cell_type": "code",
     "collapsed": false,
     "input": [],
     "language": "python",
     "metadata": {},
     "outputs": []
    }
   ],
   "metadata": {}
  }
 ]
}