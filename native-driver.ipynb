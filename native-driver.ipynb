{
 "metadata": {
  "name": "",
  "signature": "sha256:a7aa15bb8302fafa48a6da4d8f1127e15963948dd15973b1c6377258f6b8b134"
 },
 "nbformat": 3,
 "nbformat_minor": 0,
 "worksheets": [
  {
   "cells": [
    {
     "cell_type": "heading",
     "level": 1,
     "metadata": {},
     "source": [
      "Native Driver Introduction"
     ]
    },
    {
     "cell_type": "code",
     "collapsed": false,
     "input": [
      "# this is necessary to get inline plots from matplotlib\n",
      "%matplotlib inline "
     ],
     "language": "python",
     "metadata": {},
     "outputs": []
    },
    {
     "cell_type": "heading",
     "level": 1,
     "metadata": {},
     "source": [
      "We're going to assume a keyspace named tutorial exists\n",
      "In a CQL shell, we can do this:\n",
      "\n",
      "> CREATE KEYSPACE tutorial WITH replication = {'class': 'SimpleStrategy', 'replication_factor': 1};\n",
      "\n",
      "we'll create the rest of the tables programatically"
     ]
    },
    {
     "cell_type": "code",
     "collapsed": false,
     "input": [
      "# here we set up our database connection\n",
      "from cassandra.cluster import Cluster\n",
      "cluster = Cluster()\n",
      "\n",
      "# a session manages the connection pool for us\n",
      "session = cluster.connect(\"tutorial\")\n",
      "print \"Connected\""
     ],
     "language": "python",
     "metadata": {},
     "outputs": []
    },
    {
     "cell_type": "code",
     "collapsed": false,
     "input": [
      "# basic table setup\n",
      "tables = [\"photo\", \"comment\"]\n",
      "\n",
      "# drop the existing ones.  can't use a placeholder for DROP TABLE so we just use python string interpolation\n",
      "for table in tables:\n",
      "    session.execute(\"DROP TABLE if exists %s\" % table)\n",
      "    \n",
      "photo = \"\"\"\n",
      "CREATE TABLE photo (\n",
      "  photo_id uuid,\n",
      "  name text,\n",
      "  PRIMARY KEY (photo_id)\n",
      ")\n",
      "\"\"\"\n",
      "\n",
      "comment = \"\"\"\n",
      "CREATE TABLE comment (\n",
      "  photo_id uuid,\n",
      "  comment_id timeuuid,\n",
      "  comment text,\n",
      "  PRIMARY KEY (photo_id, comment_id)\n",
      ") WITH CLUSTERING ORDER BY (comment_id DESC)\n",
      "\"\"\"\n",
      "\n",
      "session.execute(photo)\n",
      "session.execute(comment)"
     ],
     "language": "python",
     "metadata": {},
     "outputs": []
    },
    {
     "cell_type": "code",
     "collapsed": false,
     "input": [
      "# populate photos\n",
      "import uuid\n",
      "insert = session.prepare(\"INSERT INTO photo (photo_id, name) VALUES (?, ?)\")\n",
      "\n",
      "for x in range(100):\n",
      "    session.execute(insert, (uuid.uuid4(), \"test %d\" % x))\n",
      "\n",
      "for photo in session.execute(\"SELECT * from photo limit 5\"):\n",
      "    print photo"
     ],
     "language": "python",
     "metadata": {},
     "outputs": []
    },
    {
     "cell_type": "code",
     "collapsed": false,
     "input": [
      "# lets get a nice visual of some sensor data!\n",
      "\n",
      "session.execute(\"DROP TABLE IF EXISTS sensor_data\")\n",
      "sensor_table = \"\"\"\n",
      "CREATE TABLE sensor_data (\n",
      "  sensor_id uuid,\n",
      "  created_at timeuuid,\n",
      "  reading int,\n",
      "  PRIMARY KEY (sensor_id, created_at)\n",
      ") WITH CLUSTERING ORDER BY (created_at DESC)\n",
      "\"\"\"\n",
      "\n",
      "session.execute(sensor_table)\n",
      "\n",
      "from uuid import uuid1, uuid4\n",
      "from random import randint\n",
      "\n",
      "insert = session.prepare(\"INSERT INTO sensor_data (sensor_id, created_at, reading) VALUES (?, ?, ?)\")\n",
      "\n",
      "sid = uuid4()\n",
      "for x in range(100):\n",
      "    session.execute(insert, (sid, uuid.uuid1(), randint(1, 1000)))\n",
      "\n",
      "\n"
     ],
     "language": "python",
     "metadata": {},
     "outputs": []
    },
    {
     "cell_type": "code",
     "collapsed": false,
     "input": [
      "%matplotlib inline \n",
      "import numpy as np\n",
      "import matplotlib.mlab as mlab\n",
      "import matplotlib.pyplot as plt\n",
      "# plot it out\n",
      "\n",
      "tmp = session.execute(\"SELECT * from sensor_data WHERE sensor_id = %s\", [sid] )\n",
      "raw_readings = [x.reading for x in tmp]\n",
      "\n",
      "num_bins = 20\n",
      "mu = 10\n",
      "sigma = 15\n",
      "\n",
      "# the histogram of the data\n",
      "\n",
      "n, bins, patches = plt.hist(raw_readings, num_bins, normed=0, facecolor='green', alpha=0.5)\n",
      "# add a 'best fit' line\n",
      "y = mlab.normpdf(bins, mu, sigma)\n",
      "plt.plot(bins, y, 'r--')\n",
      "plt.xlabel('Reading')\n",
      "plt.ylabel('Number of readings')\n",
      "plt.title(r'Histogram of sensor data: $\\mu=100$, $\\sigma=15$')\n",
      "\n",
      "# Tweak spacing to prevent clipping of ylabel\n",
      "plt.subplots_adjust(left=0.15)\n",
      "plt.show()"
     ],
     "language": "python",
     "metadata": {},
     "outputs": []
    },
    {
     "cell_type": "code",
     "collapsed": false,
     "input": [
      "# is it faster to use prepared statements?\n",
      "import time\n",
      "import random\n",
      "\n",
      "from uuid import UUID\n",
      "\n",
      "rounds = 5000\n",
      "tmp = UUID('9243e963-273d-11e4-849a-3c15c2c26c1e')\n",
      "\n",
      "query = \"INSERT INTO sensor_data (sensor_id, created_at, reading) VALUES (%s, %s, %s)\"\n",
      "\n",
      "start = time.time()\n",
      "for x in range(rounds):\n",
      "    session.execute(query, (tmp, tmp, random.randint(0, 1000)))\n",
      "\n",
      "total = time.time() - start\n",
      "\n",
      "print \"Ad-Hoc: %f, %f/query\" % (total, total / rounds)\n",
      "\n"
     ],
     "language": "python",
     "metadata": {},
     "outputs": []
    },
    {
     "cell_type": "code",
     "collapsed": false,
     "input": [
      "prepared_query = session.prepare(\"INSERT INTO sensor_data (sensor_id, created_at, reading) VALUES (?, ?, ?)\")\n",
      "\n",
      "rounds - 5000\n",
      "start = time.time()\n",
      "for x in range(rounds):\n",
      "    session.execute(prepared_query, (tmp, tmp, random.randint(0, 1000)))\n",
      "\n",
      "total = time.time() - start\n",
      "    \n",
      "print \"Prepared: %f, %f/query\" % (total, total / rounds)\n"
     ],
     "language": "python",
     "metadata": {},
     "outputs": []
    },
    {
     "cell_type": "code",
     "collapsed": false,
     "input": [],
     "language": "python",
     "metadata": {},
     "outputs": []
    }
   ],
   "metadata": {}
  }
 ]
}