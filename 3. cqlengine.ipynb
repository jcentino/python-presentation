{
 "metadata": {
  "name": "",
  "signature": "sha256:6befcd7a47b882c26f4d83fce4e6cdd771102924ccd1edc314bf5d5fc4e0c8b0"
 },
 "nbformat": 3,
 "nbformat_minor": 0,
 "worksheets": [
  {
   "cells": [
    {
     "cell_type": "code",
     "collapsed": false,
     "input": [
      "from cqlengine import *\n",
      "from cqlengine.management import sync_table, drop_table\n",
      "from cqlengine.connection import setup\n",
      "\n",
      "setup([\"localhost\"], \"tutorial\")"
     ],
     "language": "python",
     "metadata": {},
     "outputs": [],
     "prompt_number": 4
    },
    {
     "cell_type": "code",
     "collapsed": false,
     "input": [
      "class SensorData(Model):\n",
      "    sensor_id = UUID(primary_key=True)\n",
      "    created_at = TimeUUID(primary_key=True)\n",
      "    reading = Integer()\n",
      "\n",
      "drop_table(SensorData)\n",
      "sync_table(SensorData)"
     ],
     "language": "python",
     "metadata": {},
     "outputs": [],
     "prompt_number": 5
    },
    {
     "cell_type": "code",
     "collapsed": false,
     "input": [],
     "language": "python",
     "metadata": {},
     "outputs": []
    }
   ],
   "metadata": {}
  }
 ]
}