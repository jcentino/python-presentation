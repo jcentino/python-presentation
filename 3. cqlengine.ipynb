{
 "metadata": {
  "name": "",
  "signature": "sha256:05160938635bf7b9c147227f1e52b54afb06bae205e677397b1fddb4b1c08c19"
 },
 "nbformat": 3,
 "nbformat_minor": 0,
 "worksheets": [
  {
   "cells": [
    {
     "cell_type": "markdown",
     "metadata": {},
     "source": [
      "Setup and Configuration\n",
      "=============================="
     ]
    },
    {
     "cell_type": "code",
     "collapsed": false,
     "input": [
      "from cqlengine import *\n",
      "from cqlengine.management import sync_table, drop_table\n",
      "from cqlengine.connection import setup\n",
      "from uuid import uuid1, uuid4\n",
      "from random import randint\n",
      "\n",
      "setup([\"localhost\"], \"tutorial\")"
     ],
     "language": "python",
     "metadata": {},
     "outputs": []
    },
    {
     "cell_type": "code",
     "collapsed": false,
     "input": [
      "%load_ext cql\n",
      "%keyspace tutorial"
     ],
     "language": "python",
     "metadata": {},
     "outputs": []
    },
    {
     "cell_type": "markdown",
     "metadata": {},
     "source": [
      "Defining a Model\n",
      "=================="
     ]
    },
    {
     "cell_type": "code",
     "collapsed": false,
     "input": [
      "class SensorData(Model):\n",
      "    sensor_id = UUID(primary_key=True)\n",
      "    created_at = TimeUUID(primary_key=True, default=uuid1)\n",
      "    reading = Integer()"
     ],
     "language": "python",
     "metadata": {},
     "outputs": []
    },
    {
     "cell_type": "markdown",
     "metadata": {},
     "source": [
      "Table Management - Creating & Dropping\n",
      "=========================================="
     ]
    },
    {
     "cell_type": "code",
     "collapsed": false,
     "input": [
      "drop_table(SensorData)\n",
      "sync_table(SensorData)"
     ],
     "language": "python",
     "metadata": {},
     "outputs": []
    },
    {
     "cell_type": "markdown",
     "metadata": {},
     "source": [
      "Inserting Data\n",
      "=================="
     ]
    },
    {
     "cell_type": "code",
     "collapsed": false,
     "input": [
      "sensor_id = uuid4()\n",
      "\n",
      "for x in range(10):\n",
      "    reading = randint(0, 10)\n",
      "    SensorData.create(sensor_id=sensor_id, reading=reading)\n",
      "    print reading"
     ],
     "language": "python",
     "metadata": {},
     "outputs": []
    },
    {
     "cell_type": "markdown",
     "metadata": {},
     "source": [
      "Querying\n",
      "============"
     ]
    },
    {
     "cell_type": "code",
     "collapsed": false,
     "input": [
      "SensorData.objects(sensor_id=sensor_id)"
     ],
     "language": "python",
     "metadata": {},
     "outputs": []
    },
    {
     "cell_type": "markdown",
     "metadata": {},
     "source": [
      "Querysets are chainable and lazily evaluated on access."
     ]
    },
    {
     "cell_type": "code",
     "collapsed": false,
     "input": [
      "for s in SensorData.objects(sensor_id=sensor_id):\n",
      "    print s, s.reading"
     ],
     "language": "python",
     "metadata": {},
     "outputs": []
    },
    {
     "cell_type": "markdown",
     "metadata": {},
     "source": [
      "Batches\n",
      "=========="
     ]
    },
    {
     "cell_type": "markdown",
     "metadata": {},
     "source": [
      "Batches are useful in situations where you need to know that all or none of the queries get executed.  By default a batch is logged, meaning even if the mutation is only partially applied, eventually the whole thing will be.  This is useful when 2 tables absolutely have to be updated (such as some data and an index)"
     ]
    },
    {
     "cell_type": "code",
     "collapsed": false,
     "input": [
      "from cqlengine import BatchQuery\n",
      "\n",
      "drop_table(SensorData)\n",
      "sync_table(SensorData)\n",
      "\n",
      "with BatchQuery() as b:\n",
      "    for x in range(10):\n",
      "        reading = randint(0, 10)\n",
      "        SensorData.batch(b).create(sensor_id=sensor_id, reading=reading)\n",
      "        "
     ],
     "language": "python",
     "metadata": {},
     "outputs": []
    },
    {
     "cell_type": "markdown",
     "metadata": {},
     "source": [
      "Table Properties\n",
      "=================="
     ]
    },
    {
     "cell_type": "code",
     "collapsed": false,
     "input": [
      "from cqlengine import LeveledCompactionStrategy\n",
      "\n",
      "class User(Model):\n",
      "    __compaction__ = LeveledCompactionStrategy\n",
      "    user_id = UUID(primary_key=True)\n",
      "    name = Text()\n",
      "    "
     ],
     "language": "python",
     "metadata": {},
     "outputs": []
    },
    {
     "cell_type": "markdown",
     "metadata": {},
     "source": [
      "Table Inheritance\n",
      "=====================\n",
      "\n",
      "Sometimes it's useful to have tables inherit from other tables.  As a contrived example, what if we were to model tweets?"
     ]
    },
    {
     "cell_type": "code",
     "collapsed": false,
     "input": [
      "from datetime import datetime\n",
      "\n",
      "class BaseTweet(Model):\n",
      "    __abstract__ = True\n",
      "    tweet_id = Integer(primary_key=True)\n",
      "    text = Text()\n",
      "    created_at = DateTime(default=datetime.now)\n",
      "    \n",
      "class StandardTweet(BaseTweet):\n",
      "    pass\n",
      "\n",
      "class PromotedTweet(BaseTweet):\n",
      "    budget = Decimal()    \n",
      "\n",
      "sync_table(StandardTweet)\n",
      "sync_table(PromotedTweet)"
     ],
     "language": "python",
     "metadata": {},
     "outputs": []
    },
    {
     "cell_type": "code",
     "collapsed": false,
     "input": [
      "%tables"
     ],
     "language": "python",
     "metadata": {},
     "outputs": []
    },
    {
     "cell_type": "markdown",
     "metadata": {},
     "source": [
      "Table Polymorphism\n",
      "====================="
     ]
    },
    {
     "cell_type": "markdown",
     "metadata": {},
     "source": [
      "The above example will create 2 tables, one for each type of tweet.  But what if we want to do a single query that gets both results?  There's no UNION built into CQL.  For this, we use table polymorphism."
     ]
    },
    {
     "cell_type": "code",
     "collapsed": false,
     "input": [
      "from datetime import datetime\n",
      "\n",
      "\n",
      "class Tweet(Model):\n",
      "    __table_name__ = 'tweet'\n",
      "    tweet_id = Integer(primary_key=True)\n",
      "    text = Text()\n",
      "    created_at = DateTime(default=datetime.now)\n",
      "    ad_type = Text(polymorphic_key=True)\n",
      "    \n",
      "class StandardTweet(Tweet):\n",
      "     __polymorphic_key__ = 'standard'\n",
      "\n",
      "class PromotedTweet(Tweet):\n",
      "    __polymorphic_key__ = 'promoted'\n",
      "    budget = Decimal()  \n",
      "    \n",
      "drop_table(Tweet)    \n",
      "sync_table(StandardTweet)\n",
      "sync_table(PromotedTweet)"
     ],
     "language": "python",
     "metadata": {},
     "outputs": []
    },
    {
     "cell_type": "code",
     "collapsed": false,
     "input": [
      "%tables"
     ],
     "language": "python",
     "metadata": {},
     "outputs": []
    },
    {
     "cell_type": "code",
     "collapsed": false,
     "input": [
      "for x in range(2):\n",
      "    StandardTweet.create(tweet_id=x, text=\"standard\")\n",
      "for x in range(2, 4):\n",
      "    PromotedTweet.create(tweet_id=x, text=\"promoted\")\n",
      "\n",
      "Tweet.objects()[:]"
     ],
     "language": "python",
     "metadata": {},
     "outputs": []
    },
    {
     "cell_type": "code",
     "collapsed": false,
     "input": [],
     "language": "python",
     "metadata": {},
     "outputs": []
    }
   ],
   "metadata": {}
  }
 ]
}