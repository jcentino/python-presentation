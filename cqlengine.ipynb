{
 "metadata": {
  "name": "",
  "signature": "sha256:0efc74929f6eaee3bf544aeb94349640439718acbc8e568e39f8aa033ef01f05"
 },
 "nbformat": 3,
 "nbformat_minor": 0,
 "worksheets": [
  {
   "cells": [
    {
     "cell_type": "code",
     "collapsed": false,
     "input": [
      "from cqlengine import *\n",
      "from cqlengine.management import sync_table\n",
      "from cqlengine.connection import setup\n",
      "\n",
      "setup([\"localhost\"], \"tutorial\")"
     ],
     "language": "python",
     "metadata": {},
     "outputs": [],
     "prompt_number": 5
    },
    {
     "cell_type": "code",
     "collapsed": false,
     "input": [
      "class SensorData(Model):\n",
      "    sensor_id = UUID(primary_key=True)\n",
      "    created_at = TimeUUID(primary_key=True)\n",
      "    reading = Integer()\n",
      "\n",
      "sync_table(SensorData)"
     ],
     "language": "python",
     "metadata": {},
     "outputs": [],
     "prompt_number": 6
    },
    {
     "cell_type": "code",
     "collapsed": false,
     "input": [],
     "language": "python",
     "metadata": {},
     "outputs": []
    }
   ],
   "metadata": {}
  }
 ]
}