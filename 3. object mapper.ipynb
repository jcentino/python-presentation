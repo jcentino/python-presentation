{
 "metadata": {
  "name": "",
  "signature": "sha256:3b45c8c4199432661a641387f9909ddd8dd97cf615248cafee8984c15df69864"
 },
 "nbformat": 3,
 "nbformat_minor": 0,
 "worksheets": [
  {
   "cells": [
    {
     "cell_type": "markdown",
     "metadata": {},
     "source": [
      "Setup and Configuration\n",
      "=============================="
     ]
    },
    {
     "cell_type": "code",
     "collapsed": false,
     "input": [
      "from cqlengine import *\n",
      "from cqlengine.management import sync_table, drop_table\n",
      "from cqlengine.connection import setup\n",
      "from uuid import uuid1, uuid4\n",
      "from random import randint\n",
      "\n",
      "setup([\"localhost\"], \"tutorial\")"
     ],
     "language": "python",
     "metadata": {},
     "outputs": []
    },
    {
     "cell_type": "markdown",
     "metadata": {},
     "source": [
      "Any kwargs passed to `setup()` will be passed to `Cluster()`, so it's possible to use the policies from the native driver."
     ]
    },
    {
     "cell_type": "code",
     "collapsed": false,
     "input": [
      "%load_ext cql\n",
      "%cql drop keyspace if exists tutorial\n",
      "%cql CREATE KEYSPACE tutorial WITH replication = {'class': 'SimpleStrategy', 'replication_factor': 1};\n",
      "%keyspace tutorial"
     ],
     "language": "python",
     "metadata": {},
     "outputs": []
    },
    {
     "cell_type": "markdown",
     "metadata": {},
     "source": [
      "Defining a Model\n",
      "==================\n",
      "\n",
      "Models are the core of cqlengine.  We defined a model similar to other object mappers.  We can specify \n",
      "\n",
      "- primary keys \n",
      "- clustering keys-\n",
      "- default values\n",
      "- clustering sorting order \n",
      "- indexes\n",
      "- force a field to be required\n",
      "- create a field as static (shared by all rows)"
     ]
    },
    {
     "cell_type": "code",
     "collapsed": false,
     "input": [
      "class SensorData(Model):\n",
      "    sensor_id = UUID(primary_key=True)\n",
      "    created_at = TimeUUID(primary_key=True, default=uuid1)\n",
      "    reading = Integer()"
     ],
     "language": "python",
     "metadata": {},
     "outputs": []
    },
    {
     "cell_type": "markdown",
     "metadata": {},
     "source": [
      "Table Management - Creating & Dropping\n",
      "=========================================="
     ]
    },
    {
     "cell_type": "code",
     "collapsed": false,
     "input": [
      "drop_table(SensorData)\n",
      "sync_table(SensorData)"
     ],
     "language": "python",
     "metadata": {},
     "outputs": []
    },
    {
     "cell_type": "markdown",
     "metadata": {},
     "source": [
      "Inserting Data\n",
      "=================="
     ]
    },
    {
     "cell_type": "code",
     "collapsed": false,
     "input": [
      "sensor_id = uuid4()\n",
      "\n",
      "for x in range(10):\n",
      "    reading = randint(0, 10)\n",
      "    data = SensorData.create(sensor_id=sensor_id, reading=reading)\n",
      "    print reading"
     ],
     "language": "python",
     "metadata": {},
     "outputs": []
    },
    {
     "cell_type": "markdown",
     "metadata": {},
     "source": [
      "Updating\n",
      "-----------"
     ]
    },
    {
     "cell_type": "code",
     "collapsed": false,
     "input": [
      "data.reading = 1\n",
      "data.save()\n",
      "\n",
      "# or \n",
      "\n",
      "data.update(reading=10)"
     ],
     "language": "python",
     "metadata": {},
     "outputs": []
    },
    {
     "cell_type": "markdown",
     "metadata": {},
     "source": [
      "Deleting Data\n",
      "--------------"
     ]
    },
    {
     "cell_type": "code",
     "collapsed": false,
     "input": [
      "data.delete()\n",
      "\n",
      "# or we can delete blindly if we know the id\n",
      "\n",
      "SensorData.objects(sensor_id=sensor_id).delete()"
     ],
     "language": "python",
     "metadata": {},
     "outputs": []
    },
    {
     "cell_type": "markdown",
     "metadata": {},
     "source": [
      "Collections\n",
      "============"
     ]
    },
    {
     "cell_type": "code",
     "collapsed": false,
     "input": [
      "class CrazyCollections(Model):\n",
      "    id = Integer(primary_key=True)\n",
      "    int_list = List(Integer)\n",
      "    float_map = Map(Text, Float)\n",
      "    text_set = Set(Text)\n",
      "\n",
      "drop_table(CrazyCollections)\n",
      "sync_table(CrazyCollections)\n",
      "\n",
      "obj = CrazyCollections.create(id=1, \n",
      "                              int_list=[1,2,3], \n",
      "                              float_map={\"bacon\":1.1, \"eggs\":2.0},\n",
      "                              text_set=set([\"apple\", \"pie\"]))\n",
      "\n",
      "print \"The map: \", obj.float_map\n",
      "print \"The list: \", obj.int_list\n",
      "print \"The set: \", obj.text_set"
     ],
     "language": "python",
     "metadata": {},
     "outputs": []
    },
    {
     "cell_type": "markdown",
     "metadata": {},
     "source": [
      "Validation\n",
      "============"
     ]
    },
    {
     "cell_type": "code",
     "collapsed": false,
     "input": [
      "class NoJonModel(Model):\n",
      "    id = UUID(primary_key=True)\n",
      "    name = Text()\n",
      "    \n",
      "    def validate(self):\n",
      "        super(NoJonModel, self).validate()\n",
      "        if self.name == \"Jon\":\n",
      "            raise ValidationError(\"No Jon's allowed\")\n",
      "\n",
      "sync_table(NoJonModel)\n",
      "NoJonModel.create(name=\"Jon\")\n"
     ],
     "language": "python",
     "metadata": {},
     "outputs": []
    },
    {
     "cell_type": "markdown",
     "metadata": {},
     "source": [
      "TTL\n",
      "====\n",
      "\n",
      "TTLs are supported on all mutations:"
     ]
    },
    {
     "cell_type": "code",
     "collapsed": false,
     "input": [
      "SensorData.ttl(60).create(sensor_id=uuid4(), reading=5)"
     ],
     "language": "python",
     "metadata": {},
     "outputs": []
    },
    {
     "cell_type": "markdown",
     "metadata": {},
     "source": [
      "Querying\n",
      "============\n",
      "\n",
      "Single Row `get()`\n",
      "--------------------\n",
      "\n",
      "The simplest way to get a single row out of the database is the `get` call.  Use this when you are expecting a single result. "
     ]
    },
    {
     "cell_type": "code",
     "collapsed": false,
     "input": [
      "\n",
      "class User(Model):\n",
      "    name = Text(primary_key=True)\n",
      "    age = Integer()\n",
      "\n",
      "drop_table(User)\n",
      "sync_table(User)\n",
      "\n",
      "User.create(name=\"Jon\", age=33)\n",
      "\n",
      "print User.get(name=\"Jon\")"
     ],
     "language": "python",
     "metadata": {},
     "outputs": []
    },
    {
     "cell_type": "markdown",
     "metadata": {},
     "source": [
      "**User FAIL:** If the row does not exist, or multiple come back, an exception will be thrown:"
     ]
    },
    {
     "cell_type": "code",
     "collapsed": false,
     "input": [
      "print User.get(name=\"Pete\")"
     ],
     "language": "python",
     "metadata": {},
     "outputs": []
    },
    {
     "cell_type": "markdown",
     "metadata": {},
     "source": [
      "Multiple Rows\n",
      "------------------------------------"
     ]
    },
    {
     "cell_type": "markdown",
     "metadata": {},
     "source": [
      "To pull back multiple rows, we'll Querysets are chainable and lazily evaluated on access.  Simply calling `.objects` returns a `QuerySet` which has not been evaluated."
     ]
    },
    {
     "cell_type": "code",
     "collapsed": false,
     "input": [
      "SensorData.objects(sensor_id=sensor_id)"
     ],
     "language": "python",
     "metadata": {},
     "outputs": []
    },
    {
     "cell_type": "markdown",
     "metadata": {},
     "source": [
      "By iterating over the queryset we tell the query to execute:"
     ]
    },
    {
     "cell_type": "code",
     "collapsed": false,
     "input": [
      "for s in SensorData.objects(sensor_id=sensor_id).limit(2):\n",
      "    print s, s.reading"
     ],
     "language": "python",
     "metadata": {},
     "outputs": []
    },
    {
     "cell_type": "markdown",
     "metadata": {},
     "source": [
      "Filtering\n",
      "--------------------\n",
      "\n",
      "Usage of the <, > etc operators is limited to clustering keys."
     ]
    },
    {
     "cell_type": "code",
     "collapsed": false,
     "input": [
      "class Automobile(Model):\n",
      "    manufacturer = columns.Text(primary_key=True)\n",
      "    year = columns.Integer(primary_key=True)\n",
      "    model = columns.Text(primary_key=True)\n",
      "    price = columns.Decimal()\n",
      "\n",
      "drop_table(Automobile)\n",
      "sync_table(Automobile)\n",
      "\n",
      "Automobile.create(manufacturer=\"Tesla\", year=2013, model=\"Model S\", price=70000)\n",
      "Automobile.create(manufacturer=\"Tesla\", year=2014, model=\"Model S\", price=70000)\n",
      "Automobile.create(manufacturer=\"Tesla\", year=2015, model=\"Model S\", price=70000)\n",
      "Automobile.create(manufacturer=\"Tesla\", year=2015, model=\"Model X\", price=50000)\n",
      "\n",
      "list(Automobile.objects(manufacturer=\"Tesla\", year__gt=2014))"
     ],
     "language": "python",
     "metadata": {},
     "outputs": []
    },
    {
     "cell_type": "code",
     "collapsed": false,
     "input": [
      "# alternate syntax\n",
      "\n",
      "list(Automobile.objects(manufacturer=\"Tesla\").filter(Automobile.year > 2014))"
     ],
     "language": "python",
     "metadata": {},
     "outputs": []
    },
    {
     "cell_type": "markdown",
     "metadata": {},
     "source": [
      "Ordering\n",
      "-----------\n",
      "\n",
      "It's possible to order results from a queryset, so long as the order is the clustering key."
     ]
    },
    {
     "cell_type": "code",
     "collapsed": false,
     "input": [
      "class OrderedTable(Model):\n",
      "    id = Integer(primary_key=True)\n",
      "    ck = Integer(primary_key=True)\n",
      "    val = Integer()\n",
      "\n",
      "drop_table(OrderedTable)\n",
      "sync_table(OrderedTable)\n",
      "\n",
      "for x in range(10):\n",
      "    OrderedTable.create(id=1, ck=x, val=x)\n",
      "\n",
      "print \"Forward: \", [x.ck for x in OrderedTable.objects(id=1)]\n",
      "print \"Reversed: \", [x.ck for x in OrderedTable.objects(id=1).order_by(\"-ck\")]"
     ],
     "language": "python",
     "metadata": {},
     "outputs": []
    },
    {
     "cell_type": "markdown",
     "metadata": {},
     "source": [
      "Flattening Results\n",
      "------------------------\n",
      "\n",
      "If we're pulling back a big list of data, we frequently need to flatten it into a list of tuples.  "
     ]
    },
    {
     "cell_type": "code",
     "collapsed": false,
     "input": [
      "list(SensorData.objects().values_list('reading', 'created_at'))"
     ],
     "language": "python",
     "metadata": {},
     "outputs": []
    },
    {
     "cell_type": "markdown",
     "metadata": {},
     "source": [
      "Or just a list:"
     ]
    },
    {
     "cell_type": "code",
     "collapsed": false,
     "input": [
      "list(SensorData.objects().values_list('reading', flat=True))"
     ],
     "language": "python",
     "metadata": {},
     "outputs": []
    },
    {
     "cell_type": "markdown",
     "metadata": {},
     "source": [
      "Batches\n",
      "=========="
     ]
    },
    {
     "cell_type": "markdown",
     "metadata": {},
     "source": [
      "Batches are useful in situations where you need to know that all or none of the queries get executed.  By default a batch is logged, meaning even if the mutation is only partially applied, eventually the whole thing will be.  This is useful when 2 tables absolutely have to be updated (such as some data and an index)"
     ]
    },
    {
     "cell_type": "code",
     "collapsed": false,
     "input": [
      "from cqlengine import BatchQuery\n",
      "\n",
      "drop_table(SensorData)\n",
      "sync_table(SensorData)\n",
      "\n",
      "with BatchQuery() as b:\n",
      "    for x in range(10):\n",
      "        reading = randint(0, 10)\n",
      "        SensorData.batch(b).create(sensor_id=sensor_id, reading=reading)\n",
      "        "
     ],
     "language": "python",
     "metadata": {},
     "outputs": []
    },
    {
     "cell_type": "markdown",
     "metadata": {},
     "source": [
      "Lightweight Transactions\n",
      "========================"
     ]
    },
    {
     "cell_type": "code",
     "collapsed": false,
     "input": [
      "User.if_not_exists().create(name=\"Jon\", age=100)"
     ],
     "language": "python",
     "metadata": {},
     "outputs": []
    },
    {
     "cell_type": "markdown",
     "metadata": {},
     "source": [
      "Table Properties\n",
      "=================="
     ]
    },
    {
     "cell_type": "code",
     "collapsed": false,
     "input": [
      "from cqlengine import LeveledCompactionStrategy\n",
      "\n",
      "class User(Model):\n",
      "    __compaction__ = LeveledCompactionStrategy\n",
      "    __gc_grace_seconds__ = 10000\n",
      "    __read_repair_chance__  = 0.5\n",
      "    user_id = UUID(primary_key=True)\n",
      "    name = Text()\n",
      "\n",
      "drop_table(User)\n",
      "sync_table(User)"
     ],
     "language": "python",
     "metadata": {},
     "outputs": []
    },
    {
     "cell_type": "markdown",
     "metadata": {},
     "source": [
      "Table Inheritance\n",
      "=====================\n",
      "\n",
      "Sometimes it's useful to have tables inherit from other tables.  As a contrived example, what if we were to model tweets?"
     ]
    },
    {
     "cell_type": "code",
     "collapsed": false,
     "input": [
      "from datetime import datetime\n",
      "\n",
      "class BaseTweet(Model):\n",
      "    __abstract__ = True\n",
      "    tweet_id = Integer(primary_key=True)\n",
      "    text = Text()\n",
      "    created_at = DateTime(default=datetime.now)\n",
      "    \n",
      "class StandardTweet(BaseTweet):\n",
      "    pass\n",
      "\n",
      "class PromotedTweet(BaseTweet):\n",
      "    budget = Decimal()    \n",
      "\n",
      "sync_table(StandardTweet)\n",
      "sync_table(PromotedTweet)"
     ],
     "language": "python",
     "metadata": {},
     "outputs": []
    },
    {
     "cell_type": "code",
     "collapsed": false,
     "input": [
      "%tables"
     ],
     "language": "python",
     "metadata": {},
     "outputs": []
    },
    {
     "cell_type": "markdown",
     "metadata": {},
     "source": [
      "Each of the different tweet types lives in it's own table but the structure is inherited from the base table."
     ]
    },
    {
     "cell_type": "markdown",
     "metadata": {},
     "source": [
      "Table Polymorphism\n",
      "====================="
     ]
    },
    {
     "cell_type": "markdown",
     "metadata": {},
     "source": [
      "The above example will create 2 tables, one for each type of tweet.  But what if we want to do a single query that gets both results?  There's no UNION built into CQL.  For this, we use table polymorphism."
     ]
    },
    {
     "cell_type": "code",
     "collapsed": false,
     "input": [
      "from datetime import datetime\n",
      "\n",
      "\n",
      "class Tweet(Model):\n",
      "    __table_name__ = 'tweet'\n",
      "    tweet_id = Integer(primary_key=True)\n",
      "    text = Text()\n",
      "    created_at = DateTime(default=datetime.now)\n",
      "    ad_type = Text(polymorphic_key=True, index=True)\n",
      "    \n",
      "class StandardTweet(Tweet):\n",
      "     __polymorphic_key__ = 'standard'\n",
      "\n",
      "class PromotedTweet(Tweet):\n",
      "    __polymorphic_key__ = 'promoted'\n",
      "    budget = Decimal()  \n",
      "    \n",
      "drop_table(Tweet)    \n",
      "sync_table(StandardTweet)\n",
      "sync_table(PromotedTweet)"
     ],
     "language": "python",
     "metadata": {},
     "outputs": []
    },
    {
     "cell_type": "code",
     "collapsed": false,
     "input": [
      "%tables"
     ],
     "language": "python",
     "metadata": {},
     "outputs": []
    },
    {
     "cell_type": "code",
     "collapsed": false,
     "input": [
      "for x in range(2):\n",
      "    StandardTweet.create(tweet_id=x, text=\"standard\")\n",
      "for x in range(2, 4):\n",
      "    PromotedTweet.create(tweet_id=x, text=\"promoted\")\n",
      "\n",
      "Tweet.objects()[:]"
     ],
     "language": "python",
     "metadata": {},
     "outputs": []
    },
    {
     "cell_type": "code",
     "collapsed": false,
     "input": [
      "print \"standard tweets: \", StandardTweet.objects()[:]\n",
      "print \"promoted tweets: \", PromotedTweet.objects()[:]"
     ],
     "language": "python",
     "metadata": {},
     "outputs": []
    },
    {
     "cell_type": "markdown",
     "metadata": {},
     "source": [
      "Related projects\n",
      "========================\n",
      "\n",
      "[Sphinx documenation](https://github.com/dokai/sphinxcontrib-cqlengine)\n",
      "\n",
      "[Django integration](https://github.com/r4fek/django-cassandra-engine).  \n",
      "\n",
      "\n"
     ]
    },
    {
     "cell_type": "code",
     "collapsed": false,
     "input": [],
     "language": "python",
     "metadata": {},
     "outputs": []
    }
   ],
   "metadata": {}
  }
 ]
}